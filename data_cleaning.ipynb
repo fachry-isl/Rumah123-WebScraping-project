{
 "cells": [
  {
   "cell_type": "markdown",
   "id": "5ed10bc4",
   "metadata": {},
   "source": [
    "# Import Libraries"
   ]
  },
  {
   "cell_type": "code",
   "execution_count": 1,
   "id": "52874400",
   "metadata": {},
   "outputs": [],
   "source": [
    "import pandas as pd\n",
    "import numpy as np\n",
    "\n",
    "import matplotlib.pyplot as plt\n",
    "import seaborn as sns\n",
    "\n",
    "pd.set_option('display.max_colwidth', 70)"
   ]
  },
  {
   "cell_type": "code",
   "execution_count": 2,
   "id": "3089d768",
   "metadata": {},
   "outputs": [],
   "source": [
    "df_raw = pd.read_csv('rumah123_bekasiv2.csv')"
   ]
  },
  {
   "cell_type": "code",
   "execution_count": 3,
   "id": "8fed96c3",
   "metadata": {},
   "outputs": [],
   "source": [
    "df = df_raw.copy()"
   ]
  },
  {
   "cell_type": "code",
   "execution_count": 4,
   "id": "8d23ec45",
   "metadata": {
    "scrolled": false
   },
   "outputs": [
    {
     "data": {
      "text/html": [
       "<div>\n",
       "<style scoped>\n",
       "    .dataframe tbody tr th:only-of-type {\n",
       "        vertical-align: middle;\n",
       "    }\n",
       "\n",
       "    .dataframe tbody tr th {\n",
       "        vertical-align: top;\n",
       "    }\n",
       "\n",
       "    .dataframe thead th {\n",
       "        text-align: right;\n",
       "    }\n",
       "</style>\n",
       "<table border=\"1\" class=\"dataframe\">\n",
       "  <thead>\n",
       "    <tr style=\"text-align: right;\">\n",
       "      <th></th>\n",
       "      <th>user</th>\n",
       "      <th>phone_number</th>\n",
       "      <th>agent_corporate</th>\n",
       "      <th>property_location</th>\n",
       "      <th>description</th>\n",
       "      <th>price</th>\n",
       "      <th>property_type</th>\n",
       "      <th>bed</th>\n",
       "      <th>bath</th>\n",
       "      <th>garage</th>\n",
       "      <th>LT</th>\n",
       "      <th>LB</th>\n",
       "      <th>listing_type</th>\n",
       "      <th>property_url</th>\n",
       "    </tr>\n",
       "  </thead>\n",
       "  <tbody>\n",
       "    <tr>\n",
       "      <th>0</th>\n",
       "      <td>Julia Lee</td>\n",
       "      <td>+62813662...</td>\n",
       "      <td>Era Sky Harapan Indah</td>\n",
       "      <td>Harapan Indah, Bekasi</td>\n",
       "      <td>Rumah Siap Huni di Harapan Indah Cluster Adara Bekasi</td>\n",
       "      <td>Rp 1,8 Miliar</td>\n",
       "      <td>Rumah</td>\n",
       "      <td>2.0</td>\n",
       "      <td>2.0</td>\n",
       "      <td>1.0</td>\n",
       "      <td>128.0</td>\n",
       "      <td>80.0</td>\n",
       "      <td>Premier</td>\n",
       "      <td>https://www.rumah123.com/properti/bekasi/hos13715709/</td>\n",
       "    </tr>\n",
       "    <tr>\n",
       "      <th>1</th>\n",
       "      <td>Hanni</td>\n",
       "      <td>+62816178...</td>\n",
       "      <td>Era Sky Harapan Indah</td>\n",
       "      <td>Harapan Indah, Bekasi</td>\n",
       "      <td>Rumah Untuk Renovasi di Harapan Indah Cocok Untuk Investasi</td>\n",
       "      <td>Rp 1,35 Miliar</td>\n",
       "      <td>Rumah</td>\n",
       "      <td>5.0</td>\n",
       "      <td>2.0</td>\n",
       "      <td>1.0</td>\n",
       "      <td>234.0</td>\n",
       "      <td>120.0</td>\n",
       "      <td>Premier</td>\n",
       "      <td>https://www.rumah123.com/properti/bekasi/hos15487164/</td>\n",
       "    </tr>\n",
       "    <tr>\n",
       "      <th>2</th>\n",
       "      <td>susi ERASKY</td>\n",
       "      <td>NaN</td>\n",
       "      <td>Era Sky Harapan Indah</td>\n",
       "      <td>Harapan Indah, Bekasi</td>\n",
       "      <td>cepat rumah 2 lantai termurah di bulevar hijau harapan indah Bekasi</td>\n",
       "      <td>Rp 1 Miliar</td>\n",
       "      <td>Rumah</td>\n",
       "      <td>4.0</td>\n",
       "      <td>2.0</td>\n",
       "      <td>1.0</td>\n",
       "      <td>94.0</td>\n",
       "      <td>120.0</td>\n",
       "      <td>Premier</td>\n",
       "      <td>https://www.rumah123.com/properti/bekasi/hos11582175/</td>\n",
       "    </tr>\n",
       "  </tbody>\n",
       "</table>\n",
       "</div>"
      ],
      "text/plain": [
       "          user  phone_number        agent_corporate      property_location  \\\n",
       "0    Julia Lee  +62813662...  Era Sky Harapan Indah  Harapan Indah, Bekasi   \n",
       "1        Hanni  +62816178...  Era Sky Harapan Indah  Harapan Indah, Bekasi   \n",
       "2  susi ERASKY           NaN  Era Sky Harapan Indah  Harapan Indah, Bekasi   \n",
       "\n",
       "                                                           description  \\\n",
       "0                Rumah Siap Huni di Harapan Indah Cluster Adara Bekasi   \n",
       "1          Rumah Untuk Renovasi di Harapan Indah Cocok Untuk Investasi   \n",
       "2  cepat rumah 2 lantai termurah di bulevar hijau harapan indah Bekasi   \n",
       "\n",
       "            price property_type  bed  bath  garage     LT     LB listing_type  \\\n",
       "0   Rp 1,8 Miliar         Rumah  2.0   2.0     1.0  128.0   80.0      Premier   \n",
       "1  Rp 1,35 Miliar         Rumah  5.0   2.0     1.0  234.0  120.0      Premier   \n",
       "2     Rp 1 Miliar         Rumah  4.0   2.0     1.0   94.0  120.0      Premier   \n",
       "\n",
       "                                            property_url  \n",
       "0  https://www.rumah123.com/properti/bekasi/hos13715709/  \n",
       "1  https://www.rumah123.com/properti/bekasi/hos15487164/  \n",
       "2  https://www.rumah123.com/properti/bekasi/hos11582175/  "
      ]
     },
     "execution_count": 4,
     "metadata": {},
     "output_type": "execute_result"
    }
   ],
   "source": [
    "df.head(3)"
   ]
  },
  {
   "cell_type": "code",
   "execution_count": 5,
   "id": "e3f06ce2",
   "metadata": {},
   "outputs": [
    {
     "data": {
      "text/plain": [
       "(87504, 14)"
      ]
     },
     "execution_count": 5,
     "metadata": {},
     "output_type": "execute_result"
    }
   ],
   "source": [
    "df.shape"
   ]
  },
  {
   "cell_type": "code",
   "execution_count": 6,
   "id": "8f487988",
   "metadata": {
    "scrolled": false
   },
   "outputs": [
    {
     "data": {
      "text/html": [
       "<div>\n",
       "<style scoped>\n",
       "    .dataframe tbody tr th:only-of-type {\n",
       "        vertical-align: middle;\n",
       "    }\n",
       "\n",
       "    .dataframe tbody tr th {\n",
       "        vertical-align: top;\n",
       "    }\n",
       "\n",
       "    .dataframe thead th {\n",
       "        text-align: right;\n",
       "    }\n",
       "</style>\n",
       "<table border=\"1\" class=\"dataframe\">\n",
       "  <thead>\n",
       "    <tr style=\"text-align: right;\">\n",
       "      <th></th>\n",
       "      <th>feature</th>\n",
       "      <th>data_type</th>\n",
       "      <th>null_num</th>\n",
       "      <th>null_pct</th>\n",
       "      <th>unique_num</th>\n",
       "      <th>unique_sample</th>\n",
       "    </tr>\n",
       "  </thead>\n",
       "  <tbody>\n",
       "    <tr>\n",
       "      <th>0</th>\n",
       "      <td>user</td>\n",
       "      <td>object</td>\n",
       "      <td>0</td>\n",
       "      <td>0.000000</td>\n",
       "      <td>4755</td>\n",
       "      <td>[Julia Lee, Hanni, susi ERASKY, Mylana RWSB]</td>\n",
       "    </tr>\n",
       "    <tr>\n",
       "      <th>1</th>\n",
       "      <td>phone_number</td>\n",
       "      <td>object</td>\n",
       "      <td>12228</td>\n",
       "      <td>13.974218</td>\n",
       "      <td>2632</td>\n",
       "      <td>[+62813662..., +62816178..., nan, +62813108...]</td>\n",
       "    </tr>\n",
       "    <tr>\n",
       "      <th>2</th>\n",
       "      <td>agent_corporate</td>\n",
       "      <td>object</td>\n",
       "      <td>10341</td>\n",
       "      <td>11.817745</td>\n",
       "      <td>945</td>\n",
       "      <td>[Era Sky Harapan Indah, RAY WHITE SUMMARECON BEKASI, Ray White Har...</td>\n",
       "    </tr>\n",
       "    <tr>\n",
       "      <th>3</th>\n",
       "      <td>property_location</td>\n",
       "      <td>object</td>\n",
       "      <td>0</td>\n",
       "      <td>0.000000</td>\n",
       "      <td>86</td>\n",
       "      <td>[Harapan Indah, Bekasi, Jatibening, Bekasi, Bekasi, Bekasi, Taruma...</td>\n",
       "    </tr>\n",
       "    <tr>\n",
       "      <th>4</th>\n",
       "      <td>description</td>\n",
       "      <td>object</td>\n",
       "      <td>0</td>\n",
       "      <td>0.000000</td>\n",
       "      <td>72148</td>\n",
       "      <td>[Rumah Siap Huni di Harapan Indah Cluster Adara Bekasi, Rumah Untu...</td>\n",
       "    </tr>\n",
       "    <tr>\n",
       "      <th>5</th>\n",
       "      <td>price</td>\n",
       "      <td>object</td>\n",
       "      <td>0</td>\n",
       "      <td>0.000000</td>\n",
       "      <td>2893</td>\n",
       "      <td>[Rp 1,8 Miliar, Rp 1,35 Miliar, Rp 1 Miliar, Rp 2,92 Miliar]</td>\n",
       "    </tr>\n",
       "    <tr>\n",
       "      <th>6</th>\n",
       "      <td>property_type</td>\n",
       "      <td>object</td>\n",
       "      <td>0</td>\n",
       "      <td>0.000000</td>\n",
       "      <td>8</td>\n",
       "      <td>[Rumah, Apartemen, Gudang, Tanah]</td>\n",
       "    </tr>\n",
       "    <tr>\n",
       "      <th>7</th>\n",
       "      <td>bed</td>\n",
       "      <td>float64</td>\n",
       "      <td>19277</td>\n",
       "      <td>22.029850</td>\n",
       "      <td>48</td>\n",
       "      <td>[2.0, 5.0, 4.0, 3.0]</td>\n",
       "    </tr>\n",
       "    <tr>\n",
       "      <th>8</th>\n",
       "      <td>bath</td>\n",
       "      <td>float64</td>\n",
       "      <td>11735</td>\n",
       "      <td>13.410816</td>\n",
       "      <td>57</td>\n",
       "      <td>[2.0, 3.0, 4.0, 1.0]</td>\n",
       "    </tr>\n",
       "    <tr>\n",
       "      <th>9</th>\n",
       "      <td>garage</td>\n",
       "      <td>float64</td>\n",
       "      <td>38346</td>\n",
       "      <td>43.821997</td>\n",
       "      <td>39</td>\n",
       "      <td>[1.0, nan, 2.0, 10.0]</td>\n",
       "    </tr>\n",
       "    <tr>\n",
       "      <th>10</th>\n",
       "      <td>LT</td>\n",
       "      <td>float64</td>\n",
       "      <td>243</td>\n",
       "      <td>0.277702</td>\n",
       "      <td>2277</td>\n",
       "      <td>[128.0, 234.0, 94.0, 160.0]</td>\n",
       "    </tr>\n",
       "    <tr>\n",
       "      <th>11</th>\n",
       "      <td>LB</td>\n",
       "      <td>float64</td>\n",
       "      <td>10338</td>\n",
       "      <td>11.814317</td>\n",
       "      <td>1142</td>\n",
       "      <td>[80.0, 120.0, 220.0, 140.0]</td>\n",
       "    </tr>\n",
       "    <tr>\n",
       "      <th>12</th>\n",
       "      <td>listing_type</td>\n",
       "      <td>object</td>\n",
       "      <td>0</td>\n",
       "      <td>0.000000</td>\n",
       "      <td>3</td>\n",
       "      <td>[Premier, Featured, Regular]</td>\n",
       "    </tr>\n",
       "    <tr>\n",
       "      <th>13</th>\n",
       "      <td>property_url</td>\n",
       "      <td>object</td>\n",
       "      <td>0</td>\n",
       "      <td>0.000000</td>\n",
       "      <td>87474</td>\n",
       "      <td>[https://www.rumah123.com/properti/bekasi/hos13715709/, https://ww...</td>\n",
       "    </tr>\n",
       "  </tbody>\n",
       "</table>\n",
       "</div>"
      ],
      "text/plain": [
       "              feature data_type  null_num   null_pct  unique_num  \\\n",
       "0                user    object         0   0.000000        4755   \n",
       "1        phone_number    object     12228  13.974218        2632   \n",
       "2     agent_corporate    object     10341  11.817745         945   \n",
       "3   property_location    object         0   0.000000          86   \n",
       "4         description    object         0   0.000000       72148   \n",
       "5               price    object         0   0.000000        2893   \n",
       "6       property_type    object         0   0.000000           8   \n",
       "7                 bed   float64     19277  22.029850          48   \n",
       "8                bath   float64     11735  13.410816          57   \n",
       "9              garage   float64     38346  43.821997          39   \n",
       "10                 LT   float64       243   0.277702        2277   \n",
       "11                 LB   float64     10338  11.814317        1142   \n",
       "12       listing_type    object         0   0.000000           3   \n",
       "13       property_url    object         0   0.000000       87474   \n",
       "\n",
       "                                                            unique_sample  \n",
       "0                            [Julia Lee, Hanni, susi ERASKY, Mylana RWSB]  \n",
       "1                         [+62813662..., +62816178..., nan, +62813108...]  \n",
       "2   [Era Sky Harapan Indah, RAY WHITE SUMMARECON BEKASI, Ray White Har...  \n",
       "3   [Harapan Indah, Bekasi, Jatibening, Bekasi, Bekasi, Bekasi, Taruma...  \n",
       "4   [Rumah Siap Huni di Harapan Indah Cluster Adara Bekasi, Rumah Untu...  \n",
       "5            [Rp 1,8 Miliar, Rp 1,35 Miliar, Rp 1 Miliar, Rp 2,92 Miliar]  \n",
       "6                                       [Rumah, Apartemen, Gudang, Tanah]  \n",
       "7                                                    [2.0, 5.0, 4.0, 3.0]  \n",
       "8                                                    [2.0, 3.0, 4.0, 1.0]  \n",
       "9                                                   [1.0, nan, 2.0, 10.0]  \n",
       "10                                            [128.0, 234.0, 94.0, 160.0]  \n",
       "11                                            [80.0, 120.0, 220.0, 140.0]  \n",
       "12                                           [Premier, Featured, Regular]  \n",
       "13  [https://www.rumah123.com/properti/bekasi/hos13715709/, https://ww...  "
      ]
     },
     "execution_count": 6,
     "metadata": {},
     "output_type": "execute_result"
    }
   ],
   "source": [
    "# Create Data Info After Convert\n",
    "list_item = []\n",
    "for col in df.columns:\n",
    "    list_item.append([col, df[col].dtype, df[col].isna().sum(), 100*df[col].isna().sum()/len(df[col]), df[col].nunique(), df[col].unique()[:4]])\n",
    "desc_df = pd.DataFrame(data=list_item, columns='feature data_type null_num null_pct unique_num unique_sample'.split())\n",
    "desc_df"
   ]
  },
  {
   "cell_type": "code",
   "execution_count": 7,
   "id": "61a4dd8f",
   "metadata": {
    "scrolled": false
   },
   "outputs": [
    {
     "data": {
      "text/html": [
       "<div>\n",
       "<style scoped>\n",
       "    .dataframe tbody tr th:only-of-type {\n",
       "        vertical-align: middle;\n",
       "    }\n",
       "\n",
       "    .dataframe tbody tr th {\n",
       "        vertical-align: top;\n",
       "    }\n",
       "\n",
       "    .dataframe thead th {\n",
       "        text-align: right;\n",
       "    }\n",
       "</style>\n",
       "<table border=\"1\" class=\"dataframe\">\n",
       "  <thead>\n",
       "    <tr style=\"text-align: right;\">\n",
       "      <th></th>\n",
       "      <th>user</th>\n",
       "      <th>phone_number</th>\n",
       "      <th>agent_corporate</th>\n",
       "      <th>property_location</th>\n",
       "      <th>description</th>\n",
       "      <th>price</th>\n",
       "      <th>property_type</th>\n",
       "      <th>bed</th>\n",
       "      <th>bath</th>\n",
       "      <th>garage</th>\n",
       "      <th>LT</th>\n",
       "      <th>LB</th>\n",
       "      <th>listing_type</th>\n",
       "      <th>property_url</th>\n",
       "    </tr>\n",
       "  </thead>\n",
       "  <tbody>\n",
       "    <tr>\n",
       "      <th>1824</th>\n",
       "      <td>Tycoon Universal</td>\n",
       "      <td>+62882101...</td>\n",
       "      <td>Century21 Universal</td>\n",
       "      <td>Cikarang, Bekasi</td>\n",
       "      <td>Ruko Bagus Dan Nyaman Di Cikarang Jawa Barat</td>\n",
       "      <td>Rp 3,5 Miliar Total</td>\n",
       "      <td>Ruko</td>\n",
       "      <td>NaN</td>\n",
       "      <td>3.0</td>\n",
       "      <td>NaN</td>\n",
       "      <td>NaN</td>\n",
       "      <td>NaN</td>\n",
       "      <td>Regular</td>\n",
       "      <td>https://www.rumah123.com/properti/bekasi/shs3848931/</td>\n",
       "    </tr>\n",
       "    <tr>\n",
       "      <th>1826</th>\n",
       "      <td>Mei</td>\n",
       "      <td>+62817679...</td>\n",
       "      <td>Century21 Universal</td>\n",
       "      <td>Cikarang, Bekasi</td>\n",
       "      <td>Ruko Bagus Dan Nyaman Di Cikarang Jawa Barat</td>\n",
       "      <td>Rp 3,5 Miliar Total</td>\n",
       "      <td>Ruko</td>\n",
       "      <td>NaN</td>\n",
       "      <td>3.0</td>\n",
       "      <td>NaN</td>\n",
       "      <td>NaN</td>\n",
       "      <td>NaN</td>\n",
       "      <td>Regular</td>\n",
       "      <td>https://www.rumah123.com/properti/bekasi/shs3848797/</td>\n",
       "    </tr>\n",
       "    <tr>\n",
       "      <th>1830</th>\n",
       "      <td>Ina Karlina</td>\n",
       "      <td>+62815915...</td>\n",
       "      <td>Century21 Universal</td>\n",
       "      <td>Cikarang, Bekasi</td>\n",
       "      <td>Ruko Bagus Dan Nyaman Di Cikarang Jawa Barat</td>\n",
       "      <td>Rp 3,5 Miliar Total</td>\n",
       "      <td>Ruko</td>\n",
       "      <td>NaN</td>\n",
       "      <td>3.0</td>\n",
       "      <td>NaN</td>\n",
       "      <td>NaN</td>\n",
       "      <td>NaN</td>\n",
       "      <td>Regular</td>\n",
       "      <td>https://www.rumah123.com/properti/bekasi/shs3848663/</td>\n",
       "    </tr>\n",
       "    <tr>\n",
       "      <th>2304</th>\n",
       "      <td>sithal</td>\n",
       "      <td>+62813881...</td>\n",
       "      <td>LJ Hooker Buaran</td>\n",
       "      <td>Tambun Selatan, Bekasi</td>\n",
       "      <td>Pabrik Karya Logam Tambun Bekasi</td>\n",
       "      <td>Rp 18 Miliar Total</td>\n",
       "      <td>Pabrik</td>\n",
       "      <td>NaN</td>\n",
       "      <td>NaN</td>\n",
       "      <td>NaN</td>\n",
       "      <td>NaN</td>\n",
       "      <td>NaN</td>\n",
       "      <td>Regular</td>\n",
       "      <td>https://www.rumah123.com/properti/bekasi/fas3746332/</td>\n",
       "    </tr>\n",
       "    <tr>\n",
       "      <th>2310</th>\n",
       "      <td>Imron Rosyadi</td>\n",
       "      <td>+62821385...</td>\n",
       "      <td>Century21 United Pulomas</td>\n",
       "      <td>Tambun Selatan, Bekasi</td>\n",
       "      <td>Tambun Utara bekasi</td>\n",
       "      <td>Rp 2,5 Miliar Total</td>\n",
       "      <td>Gudang</td>\n",
       "      <td>NaN</td>\n",
       "      <td>NaN</td>\n",
       "      <td>NaN</td>\n",
       "      <td>NaN</td>\n",
       "      <td>NaN</td>\n",
       "      <td>Regular</td>\n",
       "      <td>https://www.rumah123.com/properti/bekasi/was3741945/</td>\n",
       "    </tr>\n",
       "  </tbody>\n",
       "</table>\n",
       "</div>"
      ],
      "text/plain": [
       "                  user  phone_number           agent_corporate  \\\n",
       "1824  Tycoon Universal  +62882101...       Century21 Universal   \n",
       "1826               Mei  +62817679...       Century21 Universal   \n",
       "1830       Ina Karlina  +62815915...       Century21 Universal   \n",
       "2304            sithal  +62813881...          LJ Hooker Buaran   \n",
       "2310     Imron Rosyadi  +62821385...  Century21 United Pulomas   \n",
       "\n",
       "           property_location                                   description  \\\n",
       "1824        Cikarang, Bekasi  Ruko Bagus Dan Nyaman Di Cikarang Jawa Barat   \n",
       "1826        Cikarang, Bekasi  Ruko Bagus Dan Nyaman Di Cikarang Jawa Barat   \n",
       "1830        Cikarang, Bekasi  Ruko Bagus Dan Nyaman Di Cikarang Jawa Barat   \n",
       "2304  Tambun Selatan, Bekasi              Pabrik Karya Logam Tambun Bekasi   \n",
       "2310  Tambun Selatan, Bekasi                           Tambun Utara bekasi   \n",
       "\n",
       "                    price property_type  bed  bath  garage  LT  LB  \\\n",
       "1824  Rp 3,5 Miliar Total          Ruko  NaN   3.0     NaN NaN NaN   \n",
       "1826  Rp 3,5 Miliar Total          Ruko  NaN   3.0     NaN NaN NaN   \n",
       "1830  Rp 3,5 Miliar Total          Ruko  NaN   3.0     NaN NaN NaN   \n",
       "2304   Rp 18 Miliar Total        Pabrik  NaN   NaN     NaN NaN NaN   \n",
       "2310  Rp 2,5 Miliar Total        Gudang  NaN   NaN     NaN NaN NaN   \n",
       "\n",
       "     listing_type                                          property_url  \n",
       "1824      Regular  https://www.rumah123.com/properti/bekasi/shs3848931/  \n",
       "1826      Regular  https://www.rumah123.com/properti/bekasi/shs3848797/  \n",
       "1830      Regular  https://www.rumah123.com/properti/bekasi/shs3848663/  \n",
       "2304      Regular  https://www.rumah123.com/properti/bekasi/fas3746332/  \n",
       "2310      Regular  https://www.rumah123.com/properti/bekasi/was3741945/  "
      ]
     },
     "execution_count": 7,
     "metadata": {},
     "output_type": "execute_result"
    }
   ],
   "source": [
    "df[df['LT'].isna()].head(5)"
   ]
  },
  {
   "cell_type": "markdown",
   "id": "5bf241e3",
   "metadata": {},
   "source": [
    "# Data Cleaning"
   ]
  },
  {
   "cell_type": "markdown",
   "id": "23aa95c5",
   "metadata": {},
   "source": [
    "## Handling Duplicated Values"
   ]
  },
  {
   "cell_type": "code",
   "execution_count": 8,
   "id": "a9bb6f41",
   "metadata": {},
   "outputs": [
    {
     "data": {
      "text/plain": [
       "27"
      ]
     },
     "execution_count": 8,
     "metadata": {},
     "output_type": "execute_result"
    }
   ],
   "source": [
    "df.duplicated().sum()"
   ]
  },
  {
   "cell_type": "code",
   "execution_count": 9,
   "id": "5eb027c4",
   "metadata": {
    "scrolled": false
   },
   "outputs": [
    {
     "data": {
      "text/html": [
       "<div>\n",
       "<style scoped>\n",
       "    .dataframe tbody tr th:only-of-type {\n",
       "        vertical-align: middle;\n",
       "    }\n",
       "\n",
       "    .dataframe tbody tr th {\n",
       "        vertical-align: top;\n",
       "    }\n",
       "\n",
       "    .dataframe thead th {\n",
       "        text-align: right;\n",
       "    }\n",
       "</style>\n",
       "<table border=\"1\" class=\"dataframe\">\n",
       "  <thead>\n",
       "    <tr style=\"text-align: right;\">\n",
       "      <th></th>\n",
       "      <th>user</th>\n",
       "      <th>phone_number</th>\n",
       "      <th>agent_corporate</th>\n",
       "      <th>property_location</th>\n",
       "      <th>description</th>\n",
       "      <th>price</th>\n",
       "      <th>property_type</th>\n",
       "      <th>bed</th>\n",
       "      <th>bath</th>\n",
       "      <th>garage</th>\n",
       "      <th>LT</th>\n",
       "      <th>LB</th>\n",
       "      <th>listing_type</th>\n",
       "      <th>property_url</th>\n",
       "    </tr>\n",
       "  </thead>\n",
       "  <tbody>\n",
       "    <tr>\n",
       "      <th>2892</th>\n",
       "      <td>icalcool</td>\n",
       "      <td>+62812190...</td>\n",
       "      <td>Brotherz Property</td>\n",
       "      <td>Bekasi Kota, Bekasi</td>\n",
       "      <td>Rumah Emerald Terrace Bekasi Rumah Tanpa DP Fasilitas Swimming Pool</td>\n",
       "      <td>Rp 995 Juta</td>\n",
       "      <td>Rumah</td>\n",
       "      <td>2.0</td>\n",
       "      <td>2.0</td>\n",
       "      <td>1.0</td>\n",
       "      <td>60.0</td>\n",
       "      <td>48.0</td>\n",
       "      <td>Regular</td>\n",
       "      <td>https://www.rumah123.com/properti/bekasi/hos14837580/</td>\n",
       "    </tr>\n",
       "    <tr>\n",
       "      <th>4700</th>\n",
       "      <td>Carmelya Tan</td>\n",
       "      <td>+62816139...</td>\n",
       "      <td>Century21 Metro 1</td>\n",
       "      <td>Bekasi Barat, Bekasi</td>\n",
       "      <td>Rumah di Harapan Baru 1 Bekasi 2 Lantai</td>\n",
       "      <td>Rp 1 Miliar</td>\n",
       "      <td>Rumah</td>\n",
       "      <td>6.0</td>\n",
       "      <td>2.0</td>\n",
       "      <td>NaN</td>\n",
       "      <td>120.0</td>\n",
       "      <td>150.0</td>\n",
       "      <td>Regular</td>\n",
       "      <td>https://www.rumah123.com/properti/bekasi/hos6220370/</td>\n",
       "    </tr>\n",
       "    <tr>\n",
       "      <th>5900</th>\n",
       "      <td>miya</td>\n",
       "      <td>+62812946...</td>\n",
       "      <td>Asia One Grand Galaxy</td>\n",
       "      <td>Summarecon Bekasi, Bekasi</td>\n",
       "      <td>Dijual Rumah 2 Lantai Siap Huni di Cluster Summarecon, Bekasi</td>\n",
       "      <td>Rp 1,65 Miliar</td>\n",
       "      <td>Rumah</td>\n",
       "      <td>2.0</td>\n",
       "      <td>2.0</td>\n",
       "      <td>NaN</td>\n",
       "      <td>66.0</td>\n",
       "      <td>72.0</td>\n",
       "      <td>Regular</td>\n",
       "      <td>https://www.rumah123.com/properti/bekasi/hos15094485/</td>\n",
       "    </tr>\n",
       "    <tr>\n",
       "      <th>7420</th>\n",
       "      <td>Yohanes</td>\n",
       "      <td>+62812148...</td>\n",
       "      <td>Ray White Kelapa Gading Timur</td>\n",
       "      <td>Bekasi Barat, Bekasi</td>\n",
       "      <td>Rumah Cantik Komplek Violet Garden Kranji Kota Bekasi</td>\n",
       "      <td>Rp 1,8 Miliar</td>\n",
       "      <td>Rumah</td>\n",
       "      <td>3.0</td>\n",
       "      <td>1.0</td>\n",
       "      <td>NaN</td>\n",
       "      <td>110.0</td>\n",
       "      <td>60.0</td>\n",
       "      <td>Regular</td>\n",
       "      <td>https://www.rumah123.com/properti/bekasi/hos14388557/</td>\n",
       "    </tr>\n",
       "    <tr>\n",
       "      <th>12020</th>\n",
       "      <td>Timmy Property</td>\n",
       "      <td>NaN</td>\n",
       "      <td>NaN</td>\n",
       "      <td>Summarecon Bekasi, Bekasi</td>\n",
       "      <td>Rumah Murah Bagus Siap Huni Di Cluster Burgundy Summarecon Bekasi</td>\n",
       "      <td>Rp 1,1 Miliar</td>\n",
       "      <td>Rumah</td>\n",
       "      <td>2.0</td>\n",
       "      <td>2.0</td>\n",
       "      <td>1.0</td>\n",
       "      <td>55.0</td>\n",
       "      <td>55.0</td>\n",
       "      <td>Regular</td>\n",
       "      <td>https://www.rumah123.com/properti/bekasi/hos10838404/</td>\n",
       "    </tr>\n",
       "    <tr>\n",
       "      <th>16960</th>\n",
       "      <td>Christie</td>\n",
       "      <td>+62823117...</td>\n",
       "      <td>Era Sky Harapan Indah</td>\n",
       "      <td>Harapan Indah, Bekasi</td>\n",
       "      <td>Dijual Rumah Depan Taman di Cluster Aralia Harapan Indah Bekasi</td>\n",
       "      <td>Rp 2,15 Miliar</td>\n",
       "      <td>Rumah</td>\n",
       "      <td>3.0</td>\n",
       "      <td>2.0</td>\n",
       "      <td>1.0</td>\n",
       "      <td>160.0</td>\n",
       "      <td>125.0</td>\n",
       "      <td>Regular</td>\n",
       "      <td>https://www.rumah123.com/properti/bekasi/hos15337580/</td>\n",
       "    </tr>\n",
       "    <tr>\n",
       "      <th>19000</th>\n",
       "      <td>Wanti Fun</td>\n",
       "      <td>+62817653...</td>\n",
       "      <td>Century21 Metro 1</td>\n",
       "      <td>Harapan Indah, Bekasi</td>\n",
       "      <td>Rumah Di Bulevar Hijau Bekasi Kota</td>\n",
       "      <td>Rp 1,2 Miliar</td>\n",
       "      <td>Rumah</td>\n",
       "      <td>3.0</td>\n",
       "      <td>3.0</td>\n",
       "      <td>NaN</td>\n",
       "      <td>94.0</td>\n",
       "      <td>94.0</td>\n",
       "      <td>Regular</td>\n",
       "      <td>https://www.rumah123.com/properti/bekasi/hos15260113/</td>\n",
       "    </tr>\n",
       "    <tr>\n",
       "      <th>23340</th>\n",
       "      <td>Verdiansah Apriyanto</td>\n",
       "      <td>NaN</td>\n",
       "      <td>NaN</td>\n",
       "      <td>Jatiwarna, Bekasi</td>\n",
       "      <td>Rumah Siap Huni Model Scandinavian Dekat ke Gerbang Tol Jatiwarna</td>\n",
       "      <td>Rp 995 Juta</td>\n",
       "      <td>Rumah</td>\n",
       "      <td>3.0</td>\n",
       "      <td>2.0</td>\n",
       "      <td>1.0</td>\n",
       "      <td>71.0</td>\n",
       "      <td>100.0</td>\n",
       "      <td>Regular</td>\n",
       "      <td>https://www.rumah123.com/properti/bekasi/hos14864325/</td>\n",
       "    </tr>\n",
       "    <tr>\n",
       "      <th>24502</th>\n",
       "      <td>Wihartuti LJHKGT</td>\n",
       "      <td>NaN</td>\n",
       "      <td>LJ hooker Kelapa Gading Timur</td>\n",
       "      <td>Cikarang, Bekasi</td>\n",
       "      <td>Ruko Ruko Thamrin Jababeka, Cikarang, Bekasi, Jawa Barat</td>\n",
       "      <td>Rp 3,3 Miliar Total</td>\n",
       "      <td>Ruko</td>\n",
       "      <td>NaN</td>\n",
       "      <td>NaN</td>\n",
       "      <td>NaN</td>\n",
       "      <td>40.0</td>\n",
       "      <td>96.0</td>\n",
       "      <td>Regular</td>\n",
       "      <td>https://www.rumah123.com/properti/bekasi/shs3703098/</td>\n",
       "    </tr>\n",
       "    <tr>\n",
       "      <th>30181</th>\n",
       "      <td>Dyahpuspadewi</td>\n",
       "      <td>+62813859...</td>\n",
       "      <td>NaN</td>\n",
       "      <td>Bekasi Kota, Bekasi</td>\n",
       "      <td>Jatirasa Jatiasih Rumah second terawat deket Galaxy</td>\n",
       "      <td>Rp 1,05 Miliar</td>\n",
       "      <td>Rumah</td>\n",
       "      <td>3.0</td>\n",
       "      <td>3.0</td>\n",
       "      <td>1.0</td>\n",
       "      <td>150.0</td>\n",
       "      <td>150.0</td>\n",
       "      <td>Regular</td>\n",
       "      <td>https://www.rumah123.com/properti/bekasi/hos14731040/</td>\n",
       "    </tr>\n",
       "  </tbody>\n",
       "</table>\n",
       "</div>"
      ],
      "text/plain": [
       "                       user  phone_number                agent_corporate  \\\n",
       "2892               icalcool  +62812190...              Brotherz Property   \n",
       "4700           Carmelya Tan  +62816139...              Century21 Metro 1   \n",
       "5900                   miya  +62812946...          Asia One Grand Galaxy   \n",
       "7420                Yohanes  +62812148...  Ray White Kelapa Gading Timur   \n",
       "12020        Timmy Property           NaN                            NaN   \n",
       "16960              Christie  +62823117...          Era Sky Harapan Indah   \n",
       "19000             Wanti Fun  +62817653...              Century21 Metro 1   \n",
       "23340  Verdiansah Apriyanto           NaN                            NaN   \n",
       "24502      Wihartuti LJHKGT           NaN  LJ hooker Kelapa Gading Timur   \n",
       "30181         Dyahpuspadewi  +62813859...                            NaN   \n",
       "\n",
       "               property_location  \\\n",
       "2892         Bekasi Kota, Bekasi   \n",
       "4700        Bekasi Barat, Bekasi   \n",
       "5900   Summarecon Bekasi, Bekasi   \n",
       "7420        Bekasi Barat, Bekasi   \n",
       "12020  Summarecon Bekasi, Bekasi   \n",
       "16960      Harapan Indah, Bekasi   \n",
       "19000      Harapan Indah, Bekasi   \n",
       "23340          Jatiwarna, Bekasi   \n",
       "24502           Cikarang, Bekasi   \n",
       "30181        Bekasi Kota, Bekasi   \n",
       "\n",
       "                                                               description  \\\n",
       "2892   Rumah Emerald Terrace Bekasi Rumah Tanpa DP Fasilitas Swimming Pool   \n",
       "4700                               Rumah di Harapan Baru 1 Bekasi 2 Lantai   \n",
       "5900         Dijual Rumah 2 Lantai Siap Huni di Cluster Summarecon, Bekasi   \n",
       "7420                 Rumah Cantik Komplek Violet Garden Kranji Kota Bekasi   \n",
       "12020    Rumah Murah Bagus Siap Huni Di Cluster Burgundy Summarecon Bekasi   \n",
       "16960      Dijual Rumah Depan Taman di Cluster Aralia Harapan Indah Bekasi   \n",
       "19000                                   Rumah Di Bulevar Hijau Bekasi Kota   \n",
       "23340    Rumah Siap Huni Model Scandinavian Dekat ke Gerbang Tol Jatiwarna   \n",
       "24502             Ruko Ruko Thamrin Jababeka, Cikarang, Bekasi, Jawa Barat   \n",
       "30181                  Jatirasa Jatiasih Rumah second terawat deket Galaxy   \n",
       "\n",
       "                     price property_type  bed  bath  garage     LT     LB  \\\n",
       "2892           Rp 995 Juta         Rumah  2.0   2.0     1.0   60.0   48.0   \n",
       "4700           Rp 1 Miliar         Rumah  6.0   2.0     NaN  120.0  150.0   \n",
       "5900        Rp 1,65 Miliar         Rumah  2.0   2.0     NaN   66.0   72.0   \n",
       "7420         Rp 1,8 Miliar         Rumah  3.0   1.0     NaN  110.0   60.0   \n",
       "12020        Rp 1,1 Miliar         Rumah  2.0   2.0     1.0   55.0   55.0   \n",
       "16960       Rp 2,15 Miliar         Rumah  3.0   2.0     1.0  160.0  125.0   \n",
       "19000        Rp 1,2 Miliar         Rumah  3.0   3.0     NaN   94.0   94.0   \n",
       "23340          Rp 995 Juta         Rumah  3.0   2.0     1.0   71.0  100.0   \n",
       "24502  Rp 3,3 Miliar Total          Ruko  NaN   NaN     NaN   40.0   96.0   \n",
       "30181       Rp 1,05 Miliar         Rumah  3.0   3.0     1.0  150.0  150.0   \n",
       "\n",
       "      listing_type                                           property_url  \n",
       "2892       Regular  https://www.rumah123.com/properti/bekasi/hos14837580/  \n",
       "4700       Regular   https://www.rumah123.com/properti/bekasi/hos6220370/  \n",
       "5900       Regular  https://www.rumah123.com/properti/bekasi/hos15094485/  \n",
       "7420       Regular  https://www.rumah123.com/properti/bekasi/hos14388557/  \n",
       "12020      Regular  https://www.rumah123.com/properti/bekasi/hos10838404/  \n",
       "16960      Regular  https://www.rumah123.com/properti/bekasi/hos15337580/  \n",
       "19000      Regular  https://www.rumah123.com/properti/bekasi/hos15260113/  \n",
       "23340      Regular  https://www.rumah123.com/properti/bekasi/hos14864325/  \n",
       "24502      Regular   https://www.rumah123.com/properti/bekasi/shs3703098/  \n",
       "30181      Regular  https://www.rumah123.com/properti/bekasi/hos14731040/  "
      ]
     },
     "execution_count": 9,
     "metadata": {},
     "output_type": "execute_result"
    }
   ],
   "source": [
    "df[df.duplicated()].head(10)"
   ]
  },
  {
   "cell_type": "code",
   "execution_count": 10,
   "id": "159b4b8d",
   "metadata": {},
   "outputs": [],
   "source": [
    "df.drop_duplicates(inplace=True)"
   ]
  },
  {
   "cell_type": "code",
   "execution_count": 11,
   "id": "496d8775",
   "metadata": {},
   "outputs": [
    {
     "data": {
      "text/plain": [
       "0"
      ]
     },
     "execution_count": 11,
     "metadata": {},
     "output_type": "execute_result"
    }
   ],
   "source": [
    "df.duplicated().sum()"
   ]
  },
  {
   "cell_type": "markdown",
   "id": "fa888cc9",
   "metadata": {},
   "source": [
    "## Handling Null Values\n",
    "When handling null values dropping it should be the last option, the method that we use to handling the null should depend on the context of the null values, in the case of our data: "
   ]
  },
  {
   "cell_type": "markdown",
   "id": "1451dba1",
   "metadata": {},
   "source": [
    "### `phone_number` and `agent_corporate` \n",
    "> can be easily replaced with new string values since having null values in this case can only mean one thing that is \"No information provided\". "
   ]
  },
  {
   "cell_type": "code",
   "execution_count": 12,
   "id": "73ae01a1",
   "metadata": {},
   "outputs": [],
   "source": [
    "df['phone_number'] = df['phone_number'].fillna('No phone number')\n",
    "df['agent_corporate'] = df['agent_corporate'].fillna('No agent corporate')"
   ]
  },
  {
   "cell_type": "markdown",
   "id": "821019d3",
   "metadata": {},
   "source": [
    "### `bed`, `bath`, and `garage` \n",
    "> can have multiple meanings it's either \"No information provided\" or \"The property either doesn't have bed, bath, or garage\" this makes sense in some property type, for example property like Gudang, Tanah, Ruko, Ruang Usaha, Kantor, Pabrik usually dont have a bedroom. Having multiple possibility over the actual value leave room for choosing the appropriate cleaning method, we can easily put zero on all of those properties by default but we can do something better. For example, in analyze step where we want to get the descriptive statistics like mean we gonna impute the null with it's median or mean, in modeling step we can choose model that can take null values such as XGBoost."
   ]
  },
  {
   "cell_type": "code",
   "execution_count": 13,
   "id": "f67d46dd",
   "metadata": {
    "scrolled": true
   },
   "outputs": [
    {
     "data": {
      "text/plain": [
       "array(['Rumah', 'Apartemen', 'Gudang', 'Tanah', 'Ruko', 'Pabrik',\n",
       "       'Ruang Usaha', 'Kantor'], dtype=object)"
      ]
     },
     "execution_count": 13,
     "metadata": {},
     "output_type": "execute_result"
    }
   ],
   "source": [
    "df['property_type'].unique()"
   ]
  },
  {
   "cell_type": "markdown",
   "id": "12e6f3bc",
   "metadata": {},
   "source": [
    "#### Bed"
   ]
  },
  {
   "cell_type": "code",
   "execution_count": 14,
   "id": "70399d24",
   "metadata": {},
   "outputs": [
    {
     "name": "stdout",
     "output_type": "stream",
     "text": [
      "Property type: Gudang\n",
      "Series([], Name: bed, dtype: int64)\n",
      "Property type: Tanah\n",
      "Series([], Name: bed, dtype: int64)\n",
      "Property type: Ruko\n",
      "Series([], Name: bed, dtype: int64)\n",
      "Property type: Ruang Usaha\n",
      "Series([], Name: bed, dtype: int64)\n",
      "Property type: Kantor\n",
      "4.0    1\n",
      "Name: bed, dtype: int64\n",
      "Property type: Pabrik\n",
      "Series([], Name: bed, dtype: int64)\n"
     ]
    }
   ],
   "source": [
    "for property_type in ['Gudang', 'Tanah', 'Ruko', 'Ruang Usaha', 'Kantor', 'Pabrik']:\n",
    "    print(f'Property type: {property_type}')\n",
    "    print(df[df['property_type']==property_type]['bed'].value_counts())"
   ]
  },
  {
   "cell_type": "markdown",
   "id": "650268cc",
   "metadata": {},
   "source": [
    "For non settlement property we can put zero in the number of bed"
   ]
  },
  {
   "cell_type": "code",
   "execution_count": 15,
   "id": "806568d8",
   "metadata": {},
   "outputs": [],
   "source": [
    "property_types = ['Gudang', 'Tanah', 'Ruko', 'Ruang Usaha', 'Kantor', 'Pabrik']\n",
    "df.loc[df['property_type'].isin(property_types), 'bed'] = df.loc[df['property_type'].isin(property_types), 'bed'].fillna(0)"
   ]
  },
  {
   "cell_type": "code",
   "execution_count": 16,
   "id": "dec9bdc1",
   "metadata": {},
   "outputs": [
    {
     "data": {
      "text/plain": [
       "user                  0.000000\n",
       "phone_number          0.000000\n",
       "agent_corporate       0.000000\n",
       "property_location     0.000000\n",
       "description           0.000000\n",
       "price                 0.000000\n",
       "property_type         0.000000\n",
       "bed                   1.886210\n",
       "bath                 13.409239\n",
       "garage               43.817232\n",
       "LT                    0.277787\n",
       "LB                   11.813391\n",
       "listing_type          0.000000\n",
       "property_url          0.000000\n",
       "dtype: float64"
      ]
     },
     "execution_count": 16,
     "metadata": {},
     "output_type": "execute_result"
    }
   ],
   "source": [
    "(df.isnull().sum()/df.shape[0])*100"
   ]
  },
  {
   "cell_type": "markdown",
   "id": "0ece33b1",
   "metadata": {},
   "source": [
    "We only have 1.8% left, we can drop the rest."
   ]
  },
  {
   "cell_type": "code",
   "execution_count": 17,
   "id": "ebe14651",
   "metadata": {},
   "outputs": [],
   "source": [
    "settlement_property = ['Rumah', 'Apartemen']"
   ]
  },
  {
   "cell_type": "code",
   "execution_count": 18,
   "id": "3c266e7f",
   "metadata": {},
   "outputs": [
    {
     "data": {
      "text/plain": [
       "(1650,)"
      ]
     },
     "execution_count": 18,
     "metadata": {},
     "output_type": "execute_result"
    }
   ],
   "source": [
    "df.loc[(df['property_type'].isin(settlement_property))&(df['bed'].isna()), 'bed'].shape"
   ]
  },
  {
   "cell_type": "code",
   "execution_count": 19,
   "id": "b51114f5",
   "metadata": {},
   "outputs": [],
   "source": [
    "# settlement_property = ['Rumah', 'Apartemen']\n",
    "# df.dropna(subset=['bed'], inplace=True)"
   ]
  },
  {
   "cell_type": "code",
   "execution_count": 20,
   "id": "c26a0bab",
   "metadata": {},
   "outputs": [
    {
     "data": {
      "text/plain": [
       "Rumah          66701\n",
       "Tanah           6810\n",
       "Ruko            6040\n",
       "Gudang          3227\n",
       "Apartemen       3156\n",
       "Pabrik           757\n",
       "Ruang Usaha      607\n",
       "Kantor           179\n",
       "Name: property_type, dtype: int64"
      ]
     },
     "execution_count": 20,
     "metadata": {},
     "output_type": "execute_result"
    }
   ],
   "source": [
    "df['property_type'].value_counts()"
   ]
  },
  {
   "cell_type": "code",
   "execution_count": 21,
   "id": "5b39c18c",
   "metadata": {},
   "outputs": [
    {
     "data": {
      "text/html": [
       "<div>\n",
       "<style scoped>\n",
       "    .dataframe tbody tr th:only-of-type {\n",
       "        vertical-align: middle;\n",
       "    }\n",
       "\n",
       "    .dataframe tbody tr th {\n",
       "        vertical-align: top;\n",
       "    }\n",
       "\n",
       "    .dataframe thead th {\n",
       "        text-align: right;\n",
       "    }\n",
       "</style>\n",
       "<table border=\"1\" class=\"dataframe\">\n",
       "  <thead>\n",
       "    <tr style=\"text-align: right;\">\n",
       "      <th></th>\n",
       "      <th>user</th>\n",
       "      <th>phone_number</th>\n",
       "      <th>agent_corporate</th>\n",
       "      <th>property_location</th>\n",
       "      <th>description</th>\n",
       "      <th>price</th>\n",
       "      <th>property_type</th>\n",
       "      <th>bed</th>\n",
       "      <th>bath</th>\n",
       "      <th>garage</th>\n",
       "      <th>LT</th>\n",
       "      <th>LB</th>\n",
       "      <th>listing_type</th>\n",
       "      <th>property_url</th>\n",
       "    </tr>\n",
       "  </thead>\n",
       "  <tbody>\n",
       "    <tr>\n",
       "      <th>115</th>\n",
       "      <td>Fitri RWSB</td>\n",
       "      <td>+62877854...</td>\n",
       "      <td>RAY WHITE SUMMARECON BEKASI</td>\n",
       "      <td>Grand Wisata, Bekasi</td>\n",
       "      <td>Rumah Grand Wisata Tol Dalam Kawasan ,5 Menit Mall Living Word</td>\n",
       "      <td>Rp 1,07 Miliar</td>\n",
       "      <td>Rumah</td>\n",
       "      <td>NaN</td>\n",
       "      <td>NaN</td>\n",
       "      <td>NaN</td>\n",
       "      <td>60.0</td>\n",
       "      <td>55.0</td>\n",
       "      <td>Regular</td>\n",
       "      <td>https://www.rumah123.com/properti/bekasi/hos14105597/</td>\n",
       "    </tr>\n",
       "    <tr>\n",
       "      <th>157</th>\n",
       "      <td>Sugi Hartono</td>\n",
       "      <td>+62813116...</td>\n",
       "      <td>Galaxy Media Property</td>\n",
       "      <td>Galaxy, Bekasi</td>\n",
       "      <td>Rumah artis dijamin Bebas Banjir tanah luas Jaka Setia Galaxy Bekasi</td>\n",
       "      <td>Rp 2,7 Miliar</td>\n",
       "      <td>Rumah</td>\n",
       "      <td>NaN</td>\n",
       "      <td>NaN</td>\n",
       "      <td>NaN</td>\n",
       "      <td>314.0</td>\n",
       "      <td>300.0</td>\n",
       "      <td>Premier</td>\n",
       "      <td>https://www.rumah123.com/properti/bekasi/hos12944049/</td>\n",
       "    </tr>\n",
       "    <tr>\n",
       "      <th>219</th>\n",
       "      <td>Rumahku</td>\n",
       "      <td>No phone number</td>\n",
       "      <td>No agent corporate</td>\n",
       "      <td>Jati Asih, Bekasi</td>\n",
       "      <td>Dijual Rumah di Jati Asih</td>\n",
       "      <td>Rp 1 Miliar</td>\n",
       "      <td>Rumah</td>\n",
       "      <td>NaN</td>\n",
       "      <td>NaN</td>\n",
       "      <td>NaN</td>\n",
       "      <td>52.0</td>\n",
       "      <td>50.0</td>\n",
       "      <td>Premier</td>\n",
       "      <td>https://www.rumah123.com/properti/bekasi/hos15750357/</td>\n",
       "    </tr>\n",
       "  </tbody>\n",
       "</table>\n",
       "</div>"
      ],
      "text/plain": [
       "             user     phone_number              agent_corporate  \\\n",
       "115    Fitri RWSB     +62877854...  RAY WHITE SUMMARECON BEKASI   \n",
       "157  Sugi Hartono     +62813116...        Galaxy Media Property   \n",
       "219       Rumahku  No phone number           No agent corporate   \n",
       "\n",
       "        property_location  \\\n",
       "115  Grand Wisata, Bekasi   \n",
       "157        Galaxy, Bekasi   \n",
       "219     Jati Asih, Bekasi   \n",
       "\n",
       "                                                              description  \\\n",
       "115       Rumah Grand Wisata Tol Dalam Kawasan ,5 Menit Mall Living Word    \n",
       "157  Rumah artis dijamin Bebas Banjir tanah luas Jaka Setia Galaxy Bekasi   \n",
       "219                                             Dijual Rumah di Jati Asih   \n",
       "\n",
       "              price property_type  bed  bath  garage     LT     LB  \\\n",
       "115  Rp 1,07 Miliar         Rumah  NaN   NaN     NaN   60.0   55.0   \n",
       "157   Rp 2,7 Miliar         Rumah  NaN   NaN     NaN  314.0  300.0   \n",
       "219     Rp 1 Miliar         Rumah  NaN   NaN     NaN   52.0   50.0   \n",
       "\n",
       "    listing_type                                           property_url  \n",
       "115      Regular  https://www.rumah123.com/properti/bekasi/hos14105597/  \n",
       "157      Premier  https://www.rumah123.com/properti/bekasi/hos12944049/  \n",
       "219      Premier  https://www.rumah123.com/properti/bekasi/hos15750357/  "
      ]
     },
     "execution_count": 21,
     "metadata": {},
     "output_type": "execute_result"
    }
   ],
   "source": [
    "df[df['bed'].isna()].head(3)"
   ]
  },
  {
   "cell_type": "markdown",
   "id": "ece2865a",
   "metadata": {},
   "source": [
    "#### Bath"
   ]
  },
  {
   "cell_type": "markdown",
   "id": "4550dbb5",
   "metadata": {},
   "source": [
    "There are quite high number (13.40%) of null values from bath."
   ]
  },
  {
   "cell_type": "code",
   "execution_count": 22,
   "id": "66f09948",
   "metadata": {
    "scrolled": false
   },
   "outputs": [
    {
     "data": {
      "text/plain": [
       "user                  0.000000\n",
       "phone_number          0.000000\n",
       "agent_corporate       0.000000\n",
       "property_location     0.000000\n",
       "description           0.000000\n",
       "price                 0.000000\n",
       "property_type         0.000000\n",
       "bed                   1.886210\n",
       "bath                 13.409239\n",
       "garage               43.817232\n",
       "LT                    0.277787\n",
       "LB                   11.813391\n",
       "listing_type          0.000000\n",
       "property_url          0.000000\n",
       "dtype: float64"
      ]
     },
     "execution_count": 22,
     "metadata": {},
     "output_type": "execute_result"
    }
   ],
   "source": [
    "(df.isnull().sum()/df.shape[0])*100"
   ]
  },
  {
   "cell_type": "markdown",
   "id": "494f0118",
   "metadata": {},
   "source": [
    "#### Find the reason why there are nulls"
   ]
  },
  {
   "cell_type": "markdown",
   "id": "17e1c5c3",
   "metadata": {},
   "source": [
    "Property like \"Tanah\" dont have a building hence dont have a bathroom."
   ]
  },
  {
   "cell_type": "code",
   "execution_count": 23,
   "id": "e64c0a95",
   "metadata": {},
   "outputs": [
    {
     "data": {
      "text/plain": [
       "Tanah          6810\n",
       "Gudang         1606\n",
       "Rumah          1457\n",
       "Ruko           1126\n",
       "Pabrik          369\n",
       "Ruang Usaha     184\n",
       "Kantor           99\n",
       "Apartemen        79\n",
       "Name: property_type, dtype: int64"
      ]
     },
     "execution_count": 23,
     "metadata": {},
     "output_type": "execute_result"
    }
   ],
   "source": [
    "df.loc[df['bath'].isna()].property_type.value_counts()"
   ]
  },
  {
   "cell_type": "code",
   "execution_count": 24,
   "id": "785ed1a7",
   "metadata": {},
   "outputs": [],
   "source": [
    "df.loc[(df['property_type'] == 'Tanah') & df['bath'].isna(), 'bath'] = 0"
   ]
  },
  {
   "cell_type": "code",
   "execution_count": 25,
   "id": "a67d4ff8",
   "metadata": {},
   "outputs": [
    {
     "data": {
      "text/plain": [
       "Gudang         1606\n",
       "Rumah          1457\n",
       "Ruko           1126\n",
       "Pabrik          369\n",
       "Ruang Usaha     184\n",
       "Kantor           99\n",
       "Apartemen        79\n",
       "Name: property_type, dtype: int64"
      ]
     },
     "execution_count": 25,
     "metadata": {},
     "output_type": "execute_result"
    }
   ],
   "source": [
    "df.loc[df['bath'].isna()].property_type.value_counts()"
   ]
  },
  {
   "cell_type": "code",
   "execution_count": 26,
   "id": "419460e4",
   "metadata": {},
   "outputs": [],
   "source": [
    "#df.dropna(subset=['bath'], inplace=True)"
   ]
  },
  {
   "cell_type": "markdown",
   "id": "032135b7",
   "metadata": {},
   "source": [
    "We succesfully drop the null from 13% to 5%. We gonna handle the rest depending on our goal so we just gonna ignore it for now."
   ]
  },
  {
   "cell_type": "code",
   "execution_count": 27,
   "id": "251a57b3",
   "metadata": {},
   "outputs": [
    {
     "data": {
      "text/plain": [
       "user                  0.000000\n",
       "phone_number          0.000000\n",
       "agent_corporate       0.000000\n",
       "property_location     0.000000\n",
       "description           0.000000\n",
       "price                 0.000000\n",
       "property_type         0.000000\n",
       "bed                   1.886210\n",
       "bath                  5.624336\n",
       "garage               43.817232\n",
       "LT                    0.277787\n",
       "LB                   11.813391\n",
       "listing_type          0.000000\n",
       "property_url          0.000000\n",
       "dtype: float64"
      ]
     },
     "execution_count": 27,
     "metadata": {},
     "output_type": "execute_result"
    }
   ],
   "source": [
    "(df.isnull().sum()/df.shape[0])*100"
   ]
  },
  {
   "cell_type": "markdown",
   "id": "4a4b6f43",
   "metadata": {},
   "source": [
    "#### Garage\n",
    "It's so rare for property sellers to not add garage information since it's affect the price of the property like house. So the intuitive reason why there is null in the garage field simply because they dont have one. So we can put zero as a replacement."
   ]
  },
  {
   "cell_type": "code",
   "execution_count": 28,
   "id": "77dd6851",
   "metadata": {},
   "outputs": [
    {
     "data": {
      "text/plain": [
       "Rumah          20598\n",
       "Tanah           6810\n",
       "Ruko            4194\n",
       "Apartemen       3156\n",
       "Gudang          2474\n",
       "Pabrik           550\n",
       "Ruang Usaha      415\n",
       "Kantor           133\n",
       "Name: property_type, dtype: int64"
      ]
     },
     "execution_count": 28,
     "metadata": {},
     "output_type": "execute_result"
    }
   ],
   "source": [
    "df[df['garage'].isna()]['property_type'].value_counts()"
   ]
  },
  {
   "cell_type": "code",
   "execution_count": 29,
   "id": "d18655e3",
   "metadata": {},
   "outputs": [],
   "source": [
    "df['garage'].fillna(0, inplace=True)"
   ]
  },
  {
   "cell_type": "code",
   "execution_count": 30,
   "id": "30644e46",
   "metadata": {},
   "outputs": [
    {
     "data": {
      "text/plain": [
       "Series([], Name: property_type, dtype: int64)"
      ]
     },
     "execution_count": 30,
     "metadata": {},
     "output_type": "execute_result"
    }
   ],
   "source": [
    "df[df['garage'].isna()]['property_type'].value_counts()"
   ]
  },
  {
   "cell_type": "code",
   "execution_count": 31,
   "id": "523fe0ad",
   "metadata": {},
   "outputs": [
    {
     "data": {
      "text/plain": [
       "user                  0.000000\n",
       "phone_number          0.000000\n",
       "agent_corporate       0.000000\n",
       "property_location     0.000000\n",
       "description           0.000000\n",
       "price                 0.000000\n",
       "property_type         0.000000\n",
       "bed                   1.886210\n",
       "bath                  5.624336\n",
       "garage                0.000000\n",
       "LT                    0.277787\n",
       "LB                   11.813391\n",
       "listing_type          0.000000\n",
       "property_url          0.000000\n",
       "dtype: float64"
      ]
     },
     "execution_count": 31,
     "metadata": {},
     "output_type": "execute_result"
    }
   ],
   "source": [
    "(df.isnull().sum()/df.shape[0])*100"
   ]
  },
  {
   "cell_type": "markdown",
   "id": "1568fdae",
   "metadata": {},
   "source": [
    "### `LB`"
   ]
  },
  {
   "cell_type": "markdown",
   "id": "d4113a31",
   "metadata": {},
   "source": [
    "There are 11.81% null values on LB column"
   ]
  },
  {
   "cell_type": "code",
   "execution_count": 32,
   "id": "59c03805",
   "metadata": {
    "scrolled": true
   },
   "outputs": [
    {
     "data": {
      "text/plain": [
       "user                  0.000000\n",
       "phone_number          0.000000\n",
       "agent_corporate       0.000000\n",
       "property_location     0.000000\n",
       "description           0.000000\n",
       "price                 0.000000\n",
       "property_type         0.000000\n",
       "bed                   1.886210\n",
       "bath                  5.624336\n",
       "garage                0.000000\n",
       "LT                    0.277787\n",
       "LB                   11.813391\n",
       "listing_type          0.000000\n",
       "property_url          0.000000\n",
       "dtype: float64"
      ]
     },
     "execution_count": 32,
     "metadata": {},
     "output_type": "execute_result"
    }
   ],
   "source": [
    "(df.isnull().sum()/df.shape[0])*100"
   ]
  },
  {
   "cell_type": "markdown",
   "id": "b616dbb8",
   "metadata": {},
   "source": [
    "Theoritically most or even all of land property (tanah) doesn't have building and so they dont have `LB`, so we can simply replace it with 0. "
   ]
  },
  {
   "cell_type": "code",
   "execution_count": 33,
   "id": "4f7c9caf",
   "metadata": {},
   "outputs": [],
   "source": [
    "df.loc[(df['property_type'] == 'Tanah') & df['LB'].isna(), 'LB'] = 0"
   ]
  },
  {
   "cell_type": "code",
   "execution_count": 34,
   "id": "36961ce9",
   "metadata": {},
   "outputs": [
    {
     "data": {
      "text/plain": [
       "user                 0.000000\n",
       "phone_number         0.000000\n",
       "agent_corporate      0.000000\n",
       "property_location    0.000000\n",
       "description          0.000000\n",
       "price                0.000000\n",
       "property_type        0.000000\n",
       "bed                  1.886210\n",
       "bath                 5.624336\n",
       "garage               0.000000\n",
       "LT                   0.277787\n",
       "LB                   4.028487\n",
       "listing_type         0.000000\n",
       "property_url         0.000000\n",
       "dtype: float64"
      ]
     },
     "execution_count": 34,
     "metadata": {},
     "output_type": "execute_result"
    }
   ],
   "source": [
    "(df.isnull().sum()/df.shape[0])*100"
   ]
  },
  {
   "cell_type": "code",
   "execution_count": 35,
   "id": "4268d5bd",
   "metadata": {
    "scrolled": true
   },
   "outputs": [
    {
     "data": {
      "text/plain": [
       "Apartemen      0.895573\n",
       "Ruko           0.037174\n",
       "Rumah          0.030647\n",
       "Gudang         0.021566\n",
       "Pabrik         0.008797\n",
       "Ruang Usaha    0.004824\n",
       "Kantor         0.001419\n",
       "Name: property_type, dtype: float64"
      ]
     },
     "execution_count": 35,
     "metadata": {},
     "output_type": "execute_result"
    }
   ],
   "source": [
    "df[df['LB'].isna()]['property_type'].value_counts(normalize=True)"
   ]
  },
  {
   "cell_type": "markdown",
   "id": "86a067e9",
   "metadata": {},
   "source": [
    "But the reason differ for the apartment it turns out there is a faulty in my web scraper code that put the `LT` as `LB` by default if they dont specify complete set of LT and LB information. This is due to handling different web structure during scraping. Here's what we gonna do:\n",
    "- For all null values on apartment group on LB column -> Set it as values on apartment group on LT column. (With same index)\n",
    "- For all non null values on apartment group on LT column -> Set it as values on apartment group on LB column. (With same index)\n",
    "\n",
    "Below is a single sample that demonstrate the LT and LB problem. You can validate by browsing the link if the LT value here is actually belong to LB."
   ]
  },
  {
   "cell_type": "code",
   "execution_count": 36,
   "id": "3cc93a6e",
   "metadata": {},
   "outputs": [
    {
     "data": {
      "text/html": [
       "<div>\n",
       "<style scoped>\n",
       "    .dataframe tbody tr th:only-of-type {\n",
       "        vertical-align: middle;\n",
       "    }\n",
       "\n",
       "    .dataframe tbody tr th {\n",
       "        vertical-align: top;\n",
       "    }\n",
       "\n",
       "    .dataframe thead th {\n",
       "        text-align: right;\n",
       "    }\n",
       "</style>\n",
       "<table border=\"1\" class=\"dataframe\">\n",
       "  <thead>\n",
       "    <tr style=\"text-align: right;\">\n",
       "      <th></th>\n",
       "      <th>user</th>\n",
       "      <th>phone_number</th>\n",
       "      <th>agent_corporate</th>\n",
       "      <th>property_location</th>\n",
       "      <th>description</th>\n",
       "      <th>price</th>\n",
       "      <th>property_type</th>\n",
       "      <th>bed</th>\n",
       "      <th>bath</th>\n",
       "      <th>garage</th>\n",
       "      <th>LT</th>\n",
       "      <th>LB</th>\n",
       "      <th>listing_type</th>\n",
       "      <th>property_url</th>\n",
       "    </tr>\n",
       "  </thead>\n",
       "  <tbody>\n",
       "    <tr>\n",
       "      <th>20</th>\n",
       "      <td>Erna Susilo</td>\n",
       "      <td>+62812800...</td>\n",
       "      <td>No agent corporate</td>\n",
       "      <td>Jatibening, Bekasi</td>\n",
       "      <td>Apartemen Gateway Park Terkoneksi Dengan Stasiun Lrt Semifurnish</td>\n",
       "      <td>Rp 685 Juta</td>\n",
       "      <td>Apartemen</td>\n",
       "      <td>1.0</td>\n",
       "      <td>1.0</td>\n",
       "      <td>0.0</td>\n",
       "      <td>34.0</td>\n",
       "      <td>NaN</td>\n",
       "      <td>Premier</td>\n",
       "      <td>https://www.rumah123.com/properti/bekasi/aps3129052/</td>\n",
       "    </tr>\n",
       "  </tbody>\n",
       "</table>\n",
       "</div>"
      ],
      "text/plain": [
       "           user  phone_number     agent_corporate   property_location  \\\n",
       "20  Erna Susilo  +62812800...  No agent corporate  Jatibening, Bekasi   \n",
       "\n",
       "                                                         description  \\\n",
       "20  Apartemen Gateway Park Terkoneksi Dengan Stasiun Lrt Semifurnish   \n",
       "\n",
       "          price property_type  bed  bath  garage    LT  LB listing_type  \\\n",
       "20  Rp 685 Juta     Apartemen  1.0   1.0     0.0  34.0 NaN      Premier   \n",
       "\n",
       "                                            property_url  \n",
       "20  https://www.rumah123.com/properti/bekasi/aps3129052/  "
      ]
     },
     "execution_count": 36,
     "metadata": {},
     "output_type": "execute_result"
    }
   ],
   "source": [
    "df.loc[df['property_url'] == 'https://www.rumah123.com/properti/bekasi/aps3129052/']"
   ]
  },
  {
   "cell_type": "code",
   "execution_count": 37,
   "id": "16626e63",
   "metadata": {},
   "outputs": [],
   "source": [
    "# Backup non null values for LT on apartment group with appropriate index\n",
    "backup = df.loc[(df['property_type'] == 'Apartemen') & df['LT'].notna(), 'LT']\n",
    "# Set null values from LB to LT column\n",
    "df.loc[(df['property_type'] == 'Apartemen') & df['LT'].notna(), 'LT'] = df.loc[(df['property_type'] == 'Apartemen') & df['LB'].isna(), 'LB']\n",
    "# Set non null values or backup values to null apartment group on LB column\n",
    "df.loc[(df['property_type'] == 'Apartemen') & df['LB'].isna(), 'LB'] = backup\n",
    "#df.loc[(df['property_type'] == 'Apartemen') & df['LB'].isna(), 'LB']"
   ]
  },
  {
   "cell_type": "markdown",
   "id": "de58038e",
   "metadata": {},
   "source": [
    "After handling we can validate the LT value now is belong to LB for this specific listing and That's been handled for all the problematic values using above code."
   ]
  },
  {
   "cell_type": "code",
   "execution_count": 38,
   "id": "fdf8495c",
   "metadata": {
    "scrolled": true
   },
   "outputs": [
    {
     "data": {
      "text/html": [
       "<div>\n",
       "<style scoped>\n",
       "    .dataframe tbody tr th:only-of-type {\n",
       "        vertical-align: middle;\n",
       "    }\n",
       "\n",
       "    .dataframe tbody tr th {\n",
       "        vertical-align: top;\n",
       "    }\n",
       "\n",
       "    .dataframe thead th {\n",
       "        text-align: right;\n",
       "    }\n",
       "</style>\n",
       "<table border=\"1\" class=\"dataframe\">\n",
       "  <thead>\n",
       "    <tr style=\"text-align: right;\">\n",
       "      <th></th>\n",
       "      <th>user</th>\n",
       "      <th>phone_number</th>\n",
       "      <th>agent_corporate</th>\n",
       "      <th>property_location</th>\n",
       "      <th>description</th>\n",
       "      <th>price</th>\n",
       "      <th>property_type</th>\n",
       "      <th>bed</th>\n",
       "      <th>bath</th>\n",
       "      <th>garage</th>\n",
       "      <th>LT</th>\n",
       "      <th>LB</th>\n",
       "      <th>listing_type</th>\n",
       "      <th>property_url</th>\n",
       "    </tr>\n",
       "  </thead>\n",
       "  <tbody>\n",
       "    <tr>\n",
       "      <th>20</th>\n",
       "      <td>Erna Susilo</td>\n",
       "      <td>+62812800...</td>\n",
       "      <td>No agent corporate</td>\n",
       "      <td>Jatibening, Bekasi</td>\n",
       "      <td>Apartemen Gateway Park Terkoneksi Dengan Stasiun Lrt Semifurnish</td>\n",
       "      <td>Rp 685 Juta</td>\n",
       "      <td>Apartemen</td>\n",
       "      <td>1.0</td>\n",
       "      <td>1.0</td>\n",
       "      <td>0.0</td>\n",
       "      <td>NaN</td>\n",
       "      <td>34.0</td>\n",
       "      <td>Premier</td>\n",
       "      <td>https://www.rumah123.com/properti/bekasi/aps3129052/</td>\n",
       "    </tr>\n",
       "  </tbody>\n",
       "</table>\n",
       "</div>"
      ],
      "text/plain": [
       "           user  phone_number     agent_corporate   property_location  \\\n",
       "20  Erna Susilo  +62812800...  No agent corporate  Jatibening, Bekasi   \n",
       "\n",
       "                                                         description  \\\n",
       "20  Apartemen Gateway Park Terkoneksi Dengan Stasiun Lrt Semifurnish   \n",
       "\n",
       "          price property_type  bed  bath  garage  LT    LB listing_type  \\\n",
       "20  Rp 685 Juta     Apartemen  1.0   1.0     0.0 NaN  34.0      Premier   \n",
       "\n",
       "                                            property_url  \n",
       "20  https://www.rumah123.com/properti/bekasi/aps3129052/  "
      ]
     },
     "execution_count": 38,
     "metadata": {},
     "output_type": "execute_result"
    }
   ],
   "source": [
    "df.loc[df['property_url'] == 'https://www.rumah123.com/properti/bekasi/aps3129052/']"
   ]
  },
  {
   "cell_type": "markdown",
   "id": "00a0d567",
   "metadata": {},
   "source": [
    "We can also see that the null values on LT increase while the LB decrease. Indicate that we successfully handle the task."
   ]
  },
  {
   "cell_type": "code",
   "execution_count": 39,
   "id": "de1a0c0f",
   "metadata": {
    "scrolled": true
   },
   "outputs": [
    {
     "data": {
      "text/plain": [
       "user                 0.000000\n",
       "phone_number         0.000000\n",
       "agent_corporate      0.000000\n",
       "property_location    0.000000\n",
       "description          0.000000\n",
       "price                0.000000\n",
       "property_type        0.000000\n",
       "bed                  1.886210\n",
       "bath                 5.624336\n",
       "garage               0.000000\n",
       "LT                   3.873018\n",
       "LB                   0.433257\n",
       "listing_type         0.000000\n",
       "property_url         0.000000\n",
       "dtype: float64"
      ]
     },
     "execution_count": 39,
     "metadata": {},
     "output_type": "execute_result"
    }
   ],
   "source": [
    "(df.isnull().sum()/df.shape[0])*100"
   ]
  },
  {
   "cell_type": "code",
   "execution_count": 40,
   "id": "b4e9f823",
   "metadata": {
    "scrolled": true
   },
   "outputs": [
    {
     "data": {
      "text/plain": [
       "Ruko           0.345646\n",
       "Rumah          0.284960\n",
       "Gudang         0.200528\n",
       "Pabrik         0.081794\n",
       "Ruang Usaha    0.044855\n",
       "Apartemen      0.029024\n",
       "Kantor         0.013193\n",
       "Name: property_type, dtype: float64"
      ]
     },
     "execution_count": 40,
     "metadata": {},
     "output_type": "execute_result"
    }
   ],
   "source": [
    "df[df['LB'].isna()]['property_type'].value_counts(normalize=True)"
   ]
  },
  {
   "cell_type": "markdown",
   "id": "1ea53541",
   "metadata": {},
   "source": [
    "### `LT`"
   ]
  },
  {
   "cell_type": "code",
   "execution_count": 41,
   "id": "24eb9130",
   "metadata": {},
   "outputs": [
    {
     "data": {
      "text/plain": [
       "Apartemen      0.931523\n",
       "Ruko           0.032172\n",
       "Gudang         0.017414\n",
       "Tanah          0.006198\n",
       "Pabrik         0.005903\n",
       "Rumah          0.003247\n",
       "Ruang Usaha    0.003247\n",
       "Kantor         0.000295\n",
       "Name: property_type, dtype: float64"
      ]
     },
     "execution_count": 41,
     "metadata": {},
     "output_type": "execute_result"
    }
   ],
   "source": [
    "df[df['LT'].isna()]['property_type'].value_counts(normalize=True)"
   ]
  },
  {
   "cell_type": "markdown",
   "id": "0e2456bf",
   "metadata": {},
   "source": [
    "### `LT` and `LB`"
   ]
  },
  {
   "cell_type": "code",
   "execution_count": 42,
   "id": "dcb54363",
   "metadata": {
    "scrolled": false
   },
   "outputs": [
    {
     "data": {
      "text/plain": [
       "(222, 14)"
      ]
     },
     "execution_count": 42,
     "metadata": {},
     "output_type": "execute_result"
    }
   ],
   "source": [
    "df[(df['LT'].isna())&(df['LB'].isna())].shape"
   ]
  },
  {
   "cell_type": "code",
   "execution_count": 43,
   "id": "861c0764",
   "metadata": {},
   "outputs": [],
   "source": [
    "df.dropna(subset=['LT', 'LB'], how='all', inplace=True)"
   ]
  },
  {
   "cell_type": "code",
   "execution_count": 44,
   "id": "4370fb33",
   "metadata": {},
   "outputs": [
    {
     "data": {
      "text/plain": [
       "user                 0.000000\n",
       "phone_number         0.000000\n",
       "agent_corporate      0.000000\n",
       "property_location    0.000000\n",
       "description          0.000000\n",
       "price                0.000000\n",
       "property_type        0.000000\n",
       "bed                  0.018773\n",
       "bath                 0.054117\n",
       "garage               0.000000\n",
       "LT                   0.036284\n",
       "LB                   0.001799\n",
       "listing_type         0.000000\n",
       "property_url         0.000000\n",
       "dtype: float64"
      ]
     },
     "execution_count": 44,
     "metadata": {},
     "output_type": "execute_result"
    }
   ],
   "source": [
    "df.isnull().sum()/df.shape[0]"
   ]
  },
  {
   "cell_type": "code",
   "execution_count": 45,
   "id": "acad09e1",
   "metadata": {
    "scrolled": true
   },
   "outputs": [
    {
     "data": {
      "text/plain": [
       "(87255, 14)"
      ]
     },
     "execution_count": 45,
     "metadata": {},
     "output_type": "execute_result"
    }
   ],
   "source": [
    "df.shape"
   ]
  },
  {
   "cell_type": "markdown",
   "id": "0a94a242",
   "metadata": {},
   "source": [
    "## Price Handling"
   ]
  },
  {
   "cell_type": "markdown",
   "id": "10fa1b52",
   "metadata": {},
   "source": [
    "For price it's still on string and we want to parse the value into the integer format. But here are the problems:\n",
    "- The price is still on 'Ribu', 'Juta' or 'Milliar' Format.\n",
    "- The price is still on decimal format 1.8, 1.35.\n",
    "- The price is still on /m format\n",
    "\n",
    "#### Solve:\n",
    "- Using regular expression to extract the unit format, the decimal digit and detect the /m format to form a conditional statement.\n",
    "\n",
    "#### Example:\n",
    "Data: 'Rp 1,38 Milliar /m' -> group1('1,38') group2('Milliar') (/m can be detected using 'in' statement)"
   ]
  },
  {
   "cell_type": "code",
   "execution_count": 46,
   "id": "415ec6e2",
   "metadata": {},
   "outputs": [
    {
     "data": {
      "text/html": [
       "<div>\n",
       "<style scoped>\n",
       "    .dataframe tbody tr th:only-of-type {\n",
       "        vertical-align: middle;\n",
       "    }\n",
       "\n",
       "    .dataframe tbody tr th {\n",
       "        vertical-align: top;\n",
       "    }\n",
       "\n",
       "    .dataframe thead th {\n",
       "        text-align: right;\n",
       "    }\n",
       "</style>\n",
       "<table border=\"1\" class=\"dataframe\">\n",
       "  <thead>\n",
       "    <tr style=\"text-align: right;\">\n",
       "      <th></th>\n",
       "      <th>user</th>\n",
       "      <th>phone_number</th>\n",
       "      <th>agent_corporate</th>\n",
       "      <th>property_location</th>\n",
       "      <th>description</th>\n",
       "      <th>price</th>\n",
       "      <th>property_type</th>\n",
       "      <th>bed</th>\n",
       "      <th>bath</th>\n",
       "      <th>garage</th>\n",
       "      <th>LT</th>\n",
       "      <th>LB</th>\n",
       "      <th>listing_type</th>\n",
       "      <th>property_url</th>\n",
       "    </tr>\n",
       "  </thead>\n",
       "  <tbody>\n",
       "    <tr>\n",
       "      <th>47</th>\n",
       "      <td>Yuliani Setiyowati</td>\n",
       "      <td>+62821226...</td>\n",
       "      <td>RAY WHITE SUMMARECON BEKASI</td>\n",
       "      <td>Bekasi, Bekasi</td>\n",
       "      <td>Cepat Tanah Pinggir Jalan Raya Setu Serang, Bekasi</td>\n",
       "      <td>Rp 10 Miliar Total</td>\n",
       "      <td>Tanah</td>\n",
       "      <td>0.0</td>\n",
       "      <td>0.0</td>\n",
       "      <td>0.0</td>\n",
       "      <td>6790.0</td>\n",
       "      <td>0.0</td>\n",
       "      <td>Featured</td>\n",
       "      <td>https://www.rumah123.com/properti/bekasi/las3091741/</td>\n",
       "    </tr>\n",
       "    <tr>\n",
       "      <th>48</th>\n",
       "      <td>Ida RWKG</td>\n",
       "      <td>+62812958...</td>\n",
       "      <td>Ray White Kelapa Gading</td>\n",
       "      <td>Bekasi, Bekasi</td>\n",
       "      <td>Kavling Marunda Center, Bekasi Luas 1.614m2</td>\n",
       "      <td>Rp 5,8 Juta /m²</td>\n",
       "      <td>Tanah</td>\n",
       "      <td>0.0</td>\n",
       "      <td>0.0</td>\n",
       "      <td>0.0</td>\n",
       "      <td>1614.0</td>\n",
       "      <td>0.0</td>\n",
       "      <td>Featured</td>\n",
       "      <td>https://www.rumah123.com/properti/bekasi/las3556715/</td>\n",
       "    </tr>\n",
       "    <tr>\n",
       "      <th>50</th>\n",
       "      <td>Yuliani Setiyowati</td>\n",
       "      <td>+62821226...</td>\n",
       "      <td>RAY WHITE SUMMARECON BEKASI</td>\n",
       "      <td>Bekasi, Bekasi</td>\n",
       "      <td>Tanah Industri Strategis di Cibitung Bekasi</td>\n",
       "      <td>Rp 32,5 Miliar Total</td>\n",
       "      <td>Tanah</td>\n",
       "      <td>0.0</td>\n",
       "      <td>0.0</td>\n",
       "      <td>0.0</td>\n",
       "      <td>10000.0</td>\n",
       "      <td>0.0</td>\n",
       "      <td>Featured</td>\n",
       "      <td>https://www.rumah123.com/properti/bekasi/las3091726/</td>\n",
       "    </tr>\n",
       "    <tr>\n",
       "      <th>59</th>\n",
       "      <td>Andreas RWSB</td>\n",
       "      <td>+62813578...</td>\n",
       "      <td>RAY WHITE SUMMARECON BEKASI</td>\n",
       "      <td>Bekasi, Bekasi</td>\n",
       "      <td>Tanah Huk Pinggir Jalan Di Grand Wisata, Bekasi</td>\n",
       "      <td>Rp 6 Juta Total</td>\n",
       "      <td>Tanah</td>\n",
       "      <td>0.0</td>\n",
       "      <td>0.0</td>\n",
       "      <td>0.0</td>\n",
       "      <td>460.0</td>\n",
       "      <td>0.0</td>\n",
       "      <td>Regular</td>\n",
       "      <td>https://www.rumah123.com/properti/bekasi/las1991294/</td>\n",
       "    </tr>\n",
       "    <tr>\n",
       "      <th>74</th>\n",
       "      <td>Siwiwati Jus</td>\n",
       "      <td>+62812101...</td>\n",
       "      <td>Gading Pro</td>\n",
       "      <td>Tarumajaya, Bekasi</td>\n",
       "      <td>Tanah Industri 2 kavling gandeng di Marunda center, bekasi</td>\n",
       "      <td>Rp 6,5 Juta /m²</td>\n",
       "      <td>Tanah</td>\n",
       "      <td>0.0</td>\n",
       "      <td>0.0</td>\n",
       "      <td>0.0</td>\n",
       "      <td>1800.0</td>\n",
       "      <td>0.0</td>\n",
       "      <td>Regular</td>\n",
       "      <td>https://www.rumah123.com/properti/bekasi/las3536457/</td>\n",
       "    </tr>\n",
       "  </tbody>\n",
       "</table>\n",
       "</div>"
      ],
      "text/plain": [
       "                  user  phone_number              agent_corporate  \\\n",
       "47  Yuliani Setiyowati  +62821226...  RAY WHITE SUMMARECON BEKASI   \n",
       "48            Ida RWKG  +62812958...      Ray White Kelapa Gading   \n",
       "50  Yuliani Setiyowati  +62821226...  RAY WHITE SUMMARECON BEKASI   \n",
       "59        Andreas RWSB  +62813578...  RAY WHITE SUMMARECON BEKASI   \n",
       "74        Siwiwati Jus  +62812101...                   Gading Pro   \n",
       "\n",
       "     property_location  \\\n",
       "47      Bekasi, Bekasi   \n",
       "48      Bekasi, Bekasi   \n",
       "50      Bekasi, Bekasi   \n",
       "59      Bekasi, Bekasi   \n",
       "74  Tarumajaya, Bekasi   \n",
       "\n",
       "                                                   description  \\\n",
       "47          Cepat Tanah Pinggir Jalan Raya Setu Serang, Bekasi   \n",
       "48                 Kavling Marunda Center, Bekasi Luas 1.614m2   \n",
       "50                 Tanah Industri Strategis di Cibitung Bekasi   \n",
       "59             Tanah Huk Pinggir Jalan Di Grand Wisata, Bekasi   \n",
       "74  Tanah Industri 2 kavling gandeng di Marunda center, bekasi   \n",
       "\n",
       "                   price property_type  bed  bath  garage       LT   LB  \\\n",
       "47    Rp 10 Miliar Total         Tanah  0.0   0.0     0.0   6790.0  0.0   \n",
       "48       Rp 5,8 Juta /m²         Tanah  0.0   0.0     0.0   1614.0  0.0   \n",
       "50  Rp 32,5 Miliar Total         Tanah  0.0   0.0     0.0  10000.0  0.0   \n",
       "59       Rp 6 Juta Total         Tanah  0.0   0.0     0.0    460.0  0.0   \n",
       "74       Rp 6,5 Juta /m²         Tanah  0.0   0.0     0.0   1800.0  0.0   \n",
       "\n",
       "   listing_type                                          property_url  \n",
       "47     Featured  https://www.rumah123.com/properti/bekasi/las3091741/  \n",
       "48     Featured  https://www.rumah123.com/properti/bekasi/las3556715/  \n",
       "50     Featured  https://www.rumah123.com/properti/bekasi/las3091726/  \n",
       "59      Regular  https://www.rumah123.com/properti/bekasi/las1991294/  \n",
       "74      Regular  https://www.rumah123.com/properti/bekasi/las3536457/  "
      ]
     },
     "execution_count": 46,
     "metadata": {},
     "output_type": "execute_result"
    }
   ],
   "source": [
    "df[df['property_type'] == 'Tanah'].head(5)"
   ]
  },
  {
   "cell_type": "code",
   "execution_count": 47,
   "id": "bd72a6fd",
   "metadata": {},
   "outputs": [
    {
     "data": {
      "text/plain": [
       "array(['Rp 1,8 Miliar', 'Rp 1,35 Miliar', 'Rp 1 Miliar', ...,\n",
       "       'Rp 660 Juta Total', 'Rp 5,16 Miliar', 'Rp 4,16 Miliar'],\n",
       "      dtype=object)"
      ]
     },
     "execution_count": 47,
     "metadata": {},
     "output_type": "execute_result"
    }
   ],
   "source": [
    "df.price.unique()"
   ]
  },
  {
   "cell_type": "code",
   "execution_count": 48,
   "id": "67ac3977",
   "metadata": {},
   "outputs": [],
   "source": [
    "# Import regex\n",
    "import re"
   ]
  },
  {
   "cell_type": "markdown",
   "id": "5414228f",
   "metadata": {},
   "source": [
    "### Create a Function"
   ]
  },
  {
   "cell_type": "code",
   "execution_count": 49,
   "id": "ad2e410f",
   "metadata": {},
   "outputs": [],
   "source": [
    "def extract_numeric(row):\n",
    "    price = 0\n",
    "    unit = ''\n",
    "    match = re.search(\"([\\d]+|[\\d,]+) (Ribu|Juta|Miliar)\", str(row['price']))\n",
    "    #match = re.search(\"([\\d]+|[\\d,]+) (Ribu|Juta|Miliar)\", row)\n",
    "    if match != None:\n",
    "        number = match.group(1)\n",
    "        unit = match.group(2)\n",
    "        if ',' in number:\n",
    "            # Get the number of digit after comma\n",
    "            parts = number.split(',')\n",
    "            if len(parts) == 2:\n",
    "                digits_after_comma = len(parts[1])\n",
    "                if unit == 'Ribu':\n",
    "                    price = number.replace(',', '') + '0'*(3-digits_after_comma)\n",
    "                elif unit == 'Juta':\n",
    "                    price = number.replace(',', '') + '0'*(6-digits_after_comma)\n",
    "                elif unit == 'Miliar':\n",
    "                    price = number.replace(',', '') + '0'*(9-digits_after_comma)\n",
    "        else:\n",
    "            if unit == 'Ribu':\n",
    "                price = number + '0'*(3)\n",
    "            elif unit == 'Juta':\n",
    "                price = number + '0'*(6)\n",
    "            elif unit == 'Miliar':\n",
    "                price = number + '0'*(9)\n",
    "    else:\n",
    "        return int(price)\n",
    "    \n",
    "    if '/m' in row['price']:\n",
    "        if unit == 'Miliar':\n",
    "            return int(price)\n",
    "        else:\n",
    "            return int(price) * row['LT']\n",
    "    else:\n",
    "        return int(price)"
   ]
  },
  {
   "cell_type": "markdown",
   "id": "bcfd4438",
   "metadata": {},
   "source": [
    "### Apply to dataframe"
   ]
  },
  {
   "cell_type": "code",
   "execution_count": 50,
   "id": "4fc81f05",
   "metadata": {},
   "outputs": [
    {
     "data": {
      "text/html": [
       "<div>\n",
       "<style scoped>\n",
       "    .dataframe tbody tr th:only-of-type {\n",
       "        vertical-align: middle;\n",
       "    }\n",
       "\n",
       "    .dataframe tbody tr th {\n",
       "        vertical-align: top;\n",
       "    }\n",
       "\n",
       "    .dataframe thead th {\n",
       "        text-align: right;\n",
       "    }\n",
       "</style>\n",
       "<table border=\"1\" class=\"dataframe\">\n",
       "  <thead>\n",
       "    <tr style=\"text-align: right;\">\n",
       "      <th></th>\n",
       "      <th>user</th>\n",
       "      <th>phone_number</th>\n",
       "      <th>agent_corporate</th>\n",
       "      <th>property_location</th>\n",
       "      <th>description</th>\n",
       "      <th>price</th>\n",
       "      <th>property_type</th>\n",
       "      <th>bed</th>\n",
       "      <th>bath</th>\n",
       "      <th>garage</th>\n",
       "      <th>LT</th>\n",
       "      <th>LB</th>\n",
       "      <th>listing_type</th>\n",
       "      <th>property_url</th>\n",
       "      <th>price_numeric</th>\n",
       "    </tr>\n",
       "  </thead>\n",
       "  <tbody>\n",
       "    <tr>\n",
       "      <th>0</th>\n",
       "      <td>Julia Lee</td>\n",
       "      <td>+62813662...</td>\n",
       "      <td>Era Sky Harapan Indah</td>\n",
       "      <td>Harapan Indah, Bekasi</td>\n",
       "      <td>Rumah Siap Huni di Harapan Indah Cluster Adara Bekasi</td>\n",
       "      <td>Rp 1,8 Miliar</td>\n",
       "      <td>Rumah</td>\n",
       "      <td>2.0</td>\n",
       "      <td>2.0</td>\n",
       "      <td>1.0</td>\n",
       "      <td>128.0</td>\n",
       "      <td>80.0</td>\n",
       "      <td>Premier</td>\n",
       "      <td>https://www.rumah123.com/properti/bekasi/hos13715709/</td>\n",
       "      <td>1.800000e+09</td>\n",
       "    </tr>\n",
       "    <tr>\n",
       "      <th>1</th>\n",
       "      <td>Hanni</td>\n",
       "      <td>+62816178...</td>\n",
       "      <td>Era Sky Harapan Indah</td>\n",
       "      <td>Harapan Indah, Bekasi</td>\n",
       "      <td>Rumah Untuk Renovasi di Harapan Indah Cocok Untuk Investasi</td>\n",
       "      <td>Rp 1,35 Miliar</td>\n",
       "      <td>Rumah</td>\n",
       "      <td>5.0</td>\n",
       "      <td>2.0</td>\n",
       "      <td>1.0</td>\n",
       "      <td>234.0</td>\n",
       "      <td>120.0</td>\n",
       "      <td>Premier</td>\n",
       "      <td>https://www.rumah123.com/properti/bekasi/hos15487164/</td>\n",
       "      <td>1.350000e+09</td>\n",
       "    </tr>\n",
       "    <tr>\n",
       "      <th>2</th>\n",
       "      <td>susi ERASKY</td>\n",
       "      <td>No phone number</td>\n",
       "      <td>Era Sky Harapan Indah</td>\n",
       "      <td>Harapan Indah, Bekasi</td>\n",
       "      <td>cepat rumah 2 lantai termurah di bulevar hijau harapan indah Bekasi</td>\n",
       "      <td>Rp 1 Miliar</td>\n",
       "      <td>Rumah</td>\n",
       "      <td>4.0</td>\n",
       "      <td>2.0</td>\n",
       "      <td>1.0</td>\n",
       "      <td>94.0</td>\n",
       "      <td>120.0</td>\n",
       "      <td>Premier</td>\n",
       "      <td>https://www.rumah123.com/properti/bekasi/hos11582175/</td>\n",
       "      <td>1.000000e+09</td>\n",
       "    </tr>\n",
       "    <tr>\n",
       "      <th>3</th>\n",
       "      <td>Mylana RWSB</td>\n",
       "      <td>+62813108...</td>\n",
       "      <td>RAY WHITE SUMMARECON BEKASI</td>\n",
       "      <td>Harapan Indah, Bekasi</td>\n",
       "      <td>Rumah Cantik Furnish Siap Huni Taman Puspa Harapan Indah Bekasi</td>\n",
       "      <td>Rp 2,92 Miliar</td>\n",
       "      <td>Rumah</td>\n",
       "      <td>3.0</td>\n",
       "      <td>2.0</td>\n",
       "      <td>1.0</td>\n",
       "      <td>160.0</td>\n",
       "      <td>220.0</td>\n",
       "      <td>Premier</td>\n",
       "      <td>https://www.rumah123.com/properti/bekasi/hos15738122/</td>\n",
       "      <td>2.920000e+09</td>\n",
       "    </tr>\n",
       "    <tr>\n",
       "      <th>4</th>\n",
       "      <td>Andreas Hartoyo</td>\n",
       "      <td>+62811155...</td>\n",
       "      <td>Ray White Harapan Indah</td>\n",
       "      <td>Harapan Indah, Bekasi</td>\n",
       "      <td>Rumah Minimalis Full Renov di Cluster Arana, Harapan Indah</td>\n",
       "      <td>Rp 2,25 Miliar</td>\n",
       "      <td>Rumah</td>\n",
       "      <td>3.0</td>\n",
       "      <td>2.0</td>\n",
       "      <td>1.0</td>\n",
       "      <td>144.0</td>\n",
       "      <td>140.0</td>\n",
       "      <td>Premier</td>\n",
       "      <td>https://www.rumah123.com/properti/bekasi/hos14410732/</td>\n",
       "      <td>2.250000e+09</td>\n",
       "    </tr>\n",
       "  </tbody>\n",
       "</table>\n",
       "</div>"
      ],
      "text/plain": [
       "              user     phone_number              agent_corporate  \\\n",
       "0        Julia Lee     +62813662...        Era Sky Harapan Indah   \n",
       "1            Hanni     +62816178...        Era Sky Harapan Indah   \n",
       "2      susi ERASKY  No phone number        Era Sky Harapan Indah   \n",
       "3      Mylana RWSB     +62813108...  RAY WHITE SUMMARECON BEKASI   \n",
       "4  Andreas Hartoyo     +62811155...      Ray White Harapan Indah   \n",
       "\n",
       "       property_location  \\\n",
       "0  Harapan Indah, Bekasi   \n",
       "1  Harapan Indah, Bekasi   \n",
       "2  Harapan Indah, Bekasi   \n",
       "3  Harapan Indah, Bekasi   \n",
       "4  Harapan Indah, Bekasi   \n",
       "\n",
       "                                                           description  \\\n",
       "0                Rumah Siap Huni di Harapan Indah Cluster Adara Bekasi   \n",
       "1          Rumah Untuk Renovasi di Harapan Indah Cocok Untuk Investasi   \n",
       "2  cepat rumah 2 lantai termurah di bulevar hijau harapan indah Bekasi   \n",
       "3      Rumah Cantik Furnish Siap Huni Taman Puspa Harapan Indah Bekasi   \n",
       "4           Rumah Minimalis Full Renov di Cluster Arana, Harapan Indah   \n",
       "\n",
       "            price property_type  bed  bath  garage     LT     LB listing_type  \\\n",
       "0   Rp 1,8 Miliar         Rumah  2.0   2.0     1.0  128.0   80.0      Premier   \n",
       "1  Rp 1,35 Miliar         Rumah  5.0   2.0     1.0  234.0  120.0      Premier   \n",
       "2     Rp 1 Miliar         Rumah  4.0   2.0     1.0   94.0  120.0      Premier   \n",
       "3  Rp 2,92 Miliar         Rumah  3.0   2.0     1.0  160.0  220.0      Premier   \n",
       "4  Rp 2,25 Miliar         Rumah  3.0   2.0     1.0  144.0  140.0      Premier   \n",
       "\n",
       "                                            property_url  price_numeric  \n",
       "0  https://www.rumah123.com/properti/bekasi/hos13715709/   1.800000e+09  \n",
       "1  https://www.rumah123.com/properti/bekasi/hos15487164/   1.350000e+09  \n",
       "2  https://www.rumah123.com/properti/bekasi/hos11582175/   1.000000e+09  \n",
       "3  https://www.rumah123.com/properti/bekasi/hos15738122/   2.920000e+09  \n",
       "4  https://www.rumah123.com/properti/bekasi/hos14410732/   2.250000e+09  "
      ]
     },
     "execution_count": 50,
     "metadata": {},
     "output_type": "execute_result"
    }
   ],
   "source": [
    "df['price_numeric'] = df.apply(extract_numeric, axis=1)\n",
    "df.head(5)"
   ]
  },
  {
   "cell_type": "code",
   "execution_count": 51,
   "id": "0d8cc0bb",
   "metadata": {
    "scrolled": false
   },
   "outputs": [
    {
     "data": {
      "text/html": [
       "<div>\n",
       "<style scoped>\n",
       "    .dataframe tbody tr th:only-of-type {\n",
       "        vertical-align: middle;\n",
       "    }\n",
       "\n",
       "    .dataframe tbody tr th {\n",
       "        vertical-align: top;\n",
       "    }\n",
       "\n",
       "    .dataframe thead th {\n",
       "        text-align: right;\n",
       "    }\n",
       "</style>\n",
       "<table border=\"1\" class=\"dataframe\">\n",
       "  <thead>\n",
       "    <tr style=\"text-align: right;\">\n",
       "      <th></th>\n",
       "      <th>user</th>\n",
       "      <th>phone_number</th>\n",
       "      <th>agent_corporate</th>\n",
       "      <th>property_location</th>\n",
       "      <th>description</th>\n",
       "      <th>price</th>\n",
       "      <th>property_type</th>\n",
       "      <th>bed</th>\n",
       "      <th>bath</th>\n",
       "      <th>garage</th>\n",
       "      <th>LT</th>\n",
       "      <th>LB</th>\n",
       "      <th>listing_type</th>\n",
       "      <th>property_url</th>\n",
       "      <th>price_numeric</th>\n",
       "    </tr>\n",
       "  </thead>\n",
       "  <tbody>\n",
       "    <tr>\n",
       "      <th>979</th>\n",
       "      <td>Dewi Andriyani</td>\n",
       "      <td>+62812932...</td>\n",
       "      <td>Trasmi Pro</td>\n",
       "      <td>Bekasi Barat, Bekasi</td>\n",
       "      <td>Rumah Mewah Desain Jawa Klasik Dalam Komplek di Jaka Permai, Bekasi</td>\n",
       "      <td>Hubungi Agen</td>\n",
       "      <td>Rumah</td>\n",
       "      <td>7.0</td>\n",
       "      <td>7.0</td>\n",
       "      <td>7.0</td>\n",
       "      <td>600.0</td>\n",
       "      <td>900.0</td>\n",
       "      <td>Regular</td>\n",
       "      <td>https://www.rumah123.com/properti/bekasi/hos15559286/</td>\n",
       "      <td>0.0</td>\n",
       "    </tr>\n",
       "    <tr>\n",
       "      <th>1867</th>\n",
       "      <td>Dewi Andriyani</td>\n",
       "      <td>+62812932...</td>\n",
       "      <td>Trasmi Pro</td>\n",
       "      <td>Galaxy, Bekasi</td>\n",
       "      <td>Rumah Second 1 Lantai Dalam Cluster, Posisi Sudut, dan Ngantong di...</td>\n",
       "      <td>Hubungi Agen</td>\n",
       "      <td>Rumah</td>\n",
       "      <td>4.0</td>\n",
       "      <td>4.0</td>\n",
       "      <td>2.0</td>\n",
       "      <td>279.0</td>\n",
       "      <td>134.0</td>\n",
       "      <td>Regular</td>\n",
       "      <td>https://www.rumah123.com/properti/bekasi/hos15559534/</td>\n",
       "      <td>0.0</td>\n",
       "    </tr>\n",
       "    <tr>\n",
       "      <th>4623</th>\n",
       "      <td>Dewi Andriyani</td>\n",
       "      <td>+62812932...</td>\n",
       "      <td>Trasmi Pro</td>\n",
       "      <td>Jatibening, Bekasi</td>\n",
       "      <td>Rumah Second Terawat Siap Huni, Bebas Banjir dalam Taman Persada J...</td>\n",
       "      <td>Hubungi Agen</td>\n",
       "      <td>Rumah</td>\n",
       "      <td>8.0</td>\n",
       "      <td>5.0</td>\n",
       "      <td>3.0</td>\n",
       "      <td>350.0</td>\n",
       "      <td>390.0</td>\n",
       "      <td>Regular</td>\n",
       "      <td>https://www.rumah123.com/properti/bekasi/hos15559542/</td>\n",
       "      <td>0.0</td>\n",
       "    </tr>\n",
       "    <tr>\n",
       "      <th>4624</th>\n",
       "      <td>Dewi Andriyani</td>\n",
       "      <td>+62812932...</td>\n",
       "      <td>Trasmi Pro</td>\n",
       "      <td>Jatibening, Bekasi</td>\n",
       "      <td>Rumah Second 1 Lantai Dekat Tol &amp;amp; LRT Jatibening</td>\n",
       "      <td>Hubungi Agen</td>\n",
       "      <td>Rumah</td>\n",
       "      <td>3.0</td>\n",
       "      <td>2.0</td>\n",
       "      <td>1.0</td>\n",
       "      <td>130.0</td>\n",
       "      <td>130.0</td>\n",
       "      <td>Regular</td>\n",
       "      <td>https://www.rumah123.com/properti/bekasi/hos15559533/</td>\n",
       "      <td>0.0</td>\n",
       "    </tr>\n",
       "    <tr>\n",
       "      <th>4763</th>\n",
       "      <td>Dewi Andriyani</td>\n",
       "      <td>+62812932...</td>\n",
       "      <td>Trasmi Pro</td>\n",
       "      <td>Jati Asih, Bekasi</td>\n",
       "      <td>Rumah Cluster Modern Minimalis 1 Lantai di Bojongkulur, Jatiasih</td>\n",
       "      <td>Hubungi Agen</td>\n",
       "      <td>Rumah</td>\n",
       "      <td>2.0</td>\n",
       "      <td>1.0</td>\n",
       "      <td>1.0</td>\n",
       "      <td>55.0</td>\n",
       "      <td>45.0</td>\n",
       "      <td>Regular</td>\n",
       "      <td>https://www.rumah123.com/properti/bekasi/hos15559578/</td>\n",
       "      <td>0.0</td>\n",
       "    </tr>\n",
       "  </tbody>\n",
       "</table>\n",
       "</div>"
      ],
      "text/plain": [
       "                user  phone_number agent_corporate     property_location  \\\n",
       "979   Dewi Andriyani  +62812932...      Trasmi Pro  Bekasi Barat, Bekasi   \n",
       "1867  Dewi Andriyani  +62812932...      Trasmi Pro        Galaxy, Bekasi   \n",
       "4623  Dewi Andriyani  +62812932...      Trasmi Pro    Jatibening, Bekasi   \n",
       "4624  Dewi Andriyani  +62812932...      Trasmi Pro    Jatibening, Bekasi   \n",
       "4763  Dewi Andriyani  +62812932...      Trasmi Pro     Jati Asih, Bekasi   \n",
       "\n",
       "                                                                description  \\\n",
       "979     Rumah Mewah Desain Jawa Klasik Dalam Komplek di Jaka Permai, Bekasi   \n",
       "1867  Rumah Second 1 Lantai Dalam Cluster, Posisi Sudut, dan Ngantong di...   \n",
       "4623  Rumah Second Terawat Siap Huni, Bebas Banjir dalam Taman Persada J...   \n",
       "4624                   Rumah Second 1 Lantai Dekat Tol &amp; LRT Jatibening   \n",
       "4763       Rumah Cluster Modern Minimalis 1 Lantai di Bojongkulur, Jatiasih   \n",
       "\n",
       "             price property_type  bed  bath  garage     LT     LB  \\\n",
       "979   Hubungi Agen         Rumah  7.0   7.0     7.0  600.0  900.0   \n",
       "1867  Hubungi Agen         Rumah  4.0   4.0     2.0  279.0  134.0   \n",
       "4623  Hubungi Agen         Rumah  8.0   5.0     3.0  350.0  390.0   \n",
       "4624  Hubungi Agen         Rumah  3.0   2.0     1.0  130.0  130.0   \n",
       "4763  Hubungi Agen         Rumah  2.0   1.0     1.0   55.0   45.0   \n",
       "\n",
       "     listing_type                                           property_url  \\\n",
       "979       Regular  https://www.rumah123.com/properti/bekasi/hos15559286/   \n",
       "1867      Regular  https://www.rumah123.com/properti/bekasi/hos15559534/   \n",
       "4623      Regular  https://www.rumah123.com/properti/bekasi/hos15559542/   \n",
       "4624      Regular  https://www.rumah123.com/properti/bekasi/hos15559533/   \n",
       "4763      Regular  https://www.rumah123.com/properti/bekasi/hos15559578/   \n",
       "\n",
       "      price_numeric  \n",
       "979             0.0  \n",
       "1867            0.0  \n",
       "4623            0.0  \n",
       "4624            0.0  \n",
       "4763            0.0  "
      ]
     },
     "execution_count": 51,
     "metadata": {},
     "output_type": "execute_result"
    }
   ],
   "source": [
    "df[df['price_numeric'] == 0].head(5)"
   ]
  },
  {
   "cell_type": "code",
   "execution_count": 52,
   "id": "6b1e7600",
   "metadata": {},
   "outputs": [
    {
     "data": {
      "text/plain": [
       "15"
      ]
     },
     "execution_count": 52,
     "metadata": {},
     "output_type": "execute_result"
    }
   ],
   "source": [
    "df[df['price_numeric'] == 0].shape[0]"
   ]
  },
  {
   "cell_type": "markdown",
   "id": "54e3e451",
   "metadata": {},
   "source": [
    "We have a couple of zero price this is because the house sellers dont specify the price. the value such as 'Hubungi Agent' is not beneficial and can be dropped."
   ]
  },
  {
   "cell_type": "code",
   "execution_count": 53,
   "id": "1d54a266",
   "metadata": {},
   "outputs": [
    {
     "data": {
      "text/plain": [
       "Int64Index([  979,  1867,  4623,  4624,  4763,  4767,  4815,  5141, 24825,\n",
       "            31977, 37168, 42709, 44723, 54041, 82478],\n",
       "           dtype='int64')"
      ]
     },
     "execution_count": 53,
     "metadata": {},
     "output_type": "execute_result"
    }
   ],
   "source": [
    "(df[df['price_numeric'] == 0]).index"
   ]
  },
  {
   "cell_type": "code",
   "execution_count": 54,
   "id": "7f8dd709",
   "metadata": {},
   "outputs": [],
   "source": [
    "df = df.drop((df[df['price_numeric'] == 0]).index)"
   ]
  },
  {
   "cell_type": "code",
   "execution_count": 55,
   "id": "222c3ec4",
   "metadata": {},
   "outputs": [
    {
     "data": {
      "text/plain": [
       "Int64Index([], dtype='int64')"
      ]
     },
     "execution_count": 55,
     "metadata": {},
     "output_type": "execute_result"
    }
   ],
   "source": [
    "(df[df['price_numeric'] == 0]).index"
   ]
  },
  {
   "cell_type": "markdown",
   "id": "c91c9a0c",
   "metadata": {},
   "source": [
    "## Outliers"
   ]
  },
  {
   "cell_type": "markdown",
   "id": "b94b1288",
   "metadata": {},
   "source": [
    "Using raw value is not practical since we have so many zeros, let's convert it by a million unit."
   ]
  },
  {
   "cell_type": "code",
   "execution_count": 56,
   "id": "2d298692",
   "metadata": {},
   "outputs": [],
   "source": [
    "df['price (IDR. Million Rupiah)'] = df['price_numeric']/1000_000"
   ]
  },
  {
   "cell_type": "markdown",
   "id": "f80c696d",
   "metadata": {},
   "source": [
    "The boxplot is still not visualize property since we have outliers"
   ]
  },
  {
   "cell_type": "code",
   "execution_count": 57,
   "id": "5eb60505",
   "metadata": {},
   "outputs": [
    {
     "data": {
      "text/plain": [
       "<AxesSubplot:xlabel='price (IDR. Million Rupiah)', ylabel='property_type'>"
      ]
     },
     "execution_count": 57,
     "metadata": {},
     "output_type": "execute_result"
    },
    {
     "data": {
      "image/png": "[encoded data removed]",
      "text/plain": [
       "<Figure size 640x480 with 1 Axes>"
      ]
     },
     "metadata": {},
     "output_type": "display_data"
    }
   ],
   "source": [
    "sns.boxplot(x=df['price (IDR. Million Rupiah)'], y=df['property_type'])"
   ]
  },
  {
   "cell_type": "markdown",
   "id": "4c321de6",
   "metadata": {},
   "source": [
    "This is what it looks like without outliers, but we still need to handle the outliers since some metrics doesn't work properly with the present of outliers."
   ]
  },
  {
   "cell_type": "code",
   "execution_count": 58,
   "id": "c93fca01",
   "metadata": {},
   "outputs": [
    {
     "data": {
      "text/plain": [
       "['Rumah',\n",
       " 'Apartemen',\n",
       " 'Gudang',\n",
       " 'Tanah',\n",
       " 'Ruko',\n",
       " 'Pabrik',\n",
       " 'Ruang Usaha',\n",
       " 'Kantor']"
      ]
     },
     "execution_count": 58,
     "metadata": {},
     "output_type": "execute_result"
    }
   ],
   "source": [
    "property_type = list(df['property_type'].unique())\n",
    "property_type"
   ]
  },
  {
   "cell_type": "code",
   "execution_count": 59,
   "id": "0b7ae864",
   "metadata": {},
   "outputs": [
    {
     "data": {
      "text/plain": [
       "<AxesSubplot:xlabel='price (IDR. Million Rupiah)', ylabel='property_type'>"
      ]
     },
     "execution_count": 59,
     "metadata": {},
     "output_type": "execute_result"
    },
    {
     "data": {
      "image/png": "[encoded data removed]",
      "text/plain": [
       "<Figure size 1700x900 with 1 Axes>"
      ]
     },
     "metadata": {},
     "output_type": "display_data"
    }
   ],
   "source": [
    "plt.figure(figsize=(17, 9))\n",
    "sns.boxplot(x=df['price (IDR. Million Rupiah)'], y=df['property_type'], showfliers=False)"
   ]
  },
  {
   "cell_type": "markdown",
   "id": "ba7bd7d3",
   "metadata": {},
   "source": [
    "### Post Cleaning Analysis"
   ]
  },
  {
   "cell_type": "code",
   "execution_count": 60,
   "id": "4e3042e5",
   "metadata": {},
   "outputs": [
    {
     "name": "stdout",
     "output_type": "stream",
     "text": [
      "After cleaning we went from 87504 to 87240 data points or 99.70%\n"
     ]
    }
   ],
   "source": [
    "print(f'After cleaning we went from {df_raw.shape[0]} to {df.shape[0]} data points or {(df.shape[0]/df_raw.shape[0])*100:.2f}%')"
   ]
  },
  {
   "cell_type": "code",
   "execution_count": 61,
   "id": "af597817",
   "metadata": {},
   "outputs": [
    {
     "data": {
      "text/html": [
       "<div>\n",
       "<style scoped>\n",
       "    .dataframe tbody tr th:only-of-type {\n",
       "        vertical-align: middle;\n",
       "    }\n",
       "\n",
       "    .dataframe tbody tr th {\n",
       "        vertical-align: top;\n",
       "    }\n",
       "\n",
       "    .dataframe thead th {\n",
       "        text-align: right;\n",
       "    }\n",
       "</style>\n",
       "<table border=\"1\" class=\"dataframe\">\n",
       "  <thead>\n",
       "    <tr style=\"text-align: right;\">\n",
       "      <th></th>\n",
       "      <th>bed</th>\n",
       "      <th>bath</th>\n",
       "      <th>garage</th>\n",
       "      <th>LT</th>\n",
       "      <th>LB</th>\n",
       "      <th>price_numeric</th>\n",
       "      <th>price (IDR. Million Rupiah)</th>\n",
       "    </tr>\n",
       "  </thead>\n",
       "  <tbody>\n",
       "    <tr>\n",
       "      <th>count</th>\n",
       "      <td>85602.000000</td>\n",
       "      <td>82519.000000</td>\n",
       "      <td>87240.000000</td>\n",
       "      <td>8.407400e+04</td>\n",
       "      <td>8.708300e+04</td>\n",
       "      <td>8.723100e+04</td>\n",
       "      <td>8.723100e+04</td>\n",
       "    </tr>\n",
       "    <tr>\n",
       "      <th>mean</th>\n",
       "      <td>2.471508</td>\n",
       "      <td>2.121378</td>\n",
       "      <td>0.911738</td>\n",
       "      <td>3.983024e+05</td>\n",
       "      <td>1.004529e+04</td>\n",
       "      <td>2.383527e+11</td>\n",
       "      <td>2.383527e+05</td>\n",
       "    </tr>\n",
       "    <tr>\n",
       "      <th>std</th>\n",
       "      <td>2.057732</td>\n",
       "      <td>2.507301</td>\n",
       "      <td>1.818008</td>\n",
       "      <td>7.602107e+07</td>\n",
       "      <td>2.880397e+06</td>\n",
       "      <td>3.587323e+13</td>\n",
       "      <td>3.587323e+07</td>\n",
       "    </tr>\n",
       "    <tr>\n",
       "      <th>min</th>\n",
       "      <td>0.000000</td>\n",
       "      <td>0.000000</td>\n",
       "      <td>0.000000</td>\n",
       "      <td>1.000000e+00</td>\n",
       "      <td>0.000000e+00</td>\n",
       "      <td>2.720000e+03</td>\n",
       "      <td>2.720000e-03</td>\n",
       "    </tr>\n",
       "    <tr>\n",
       "      <th>25%</th>\n",
       "      <td>2.000000</td>\n",
       "      <td>1.000000</td>\n",
       "      <td>0.000000</td>\n",
       "      <td>7.500000e+01</td>\n",
       "      <td>5.500000e+01</td>\n",
       "      <td>7.500000e+08</td>\n",
       "      <td>7.500000e+02</td>\n",
       "    </tr>\n",
       "    <tr>\n",
       "      <th>50%</th>\n",
       "      <td>3.000000</td>\n",
       "      <td>2.000000</td>\n",
       "      <td>1.000000</td>\n",
       "      <td>1.120000e+02</td>\n",
       "      <td>1.000000e+02</td>\n",
       "      <td>1.300000e+09</td>\n",
       "      <td>1.300000e+03</td>\n",
       "    </tr>\n",
       "    <tr>\n",
       "      <th>75%</th>\n",
       "      <td>3.000000</td>\n",
       "      <td>3.000000</td>\n",
       "      <td>1.000000</td>\n",
       "      <td>2.000000e+02</td>\n",
       "      <td>1.760000e+02</td>\n",
       "      <td>2.500000e+09</td>\n",
       "      <td>2.500000e+03</td>\n",
       "    </tr>\n",
       "    <tr>\n",
       "      <th>max</th>\n",
       "      <td>99.000000</td>\n",
       "      <td>200.000000</td>\n",
       "      <td>99.000000</td>\n",
       "      <td>2.123000e+10</td>\n",
       "      <td>8.500000e+08</td>\n",
       "      <td>1.025000e+16</td>\n",
       "      <td>1.025000e+10</td>\n",
       "    </tr>\n",
       "  </tbody>\n",
       "</table>\n",
       "</div>"
      ],
      "text/plain": [
       "                bed          bath        garage            LT            LB  \\\n",
       "count  85602.000000  82519.000000  87240.000000  8.407400e+04  8.708300e+04   \n",
       "mean       2.471508      2.121378      0.911738  3.983024e+05  1.004529e+04   \n",
       "std        2.057732      2.507301      1.818008  7.602107e+07  2.880397e+06   \n",
       "min        0.000000      0.000000      0.000000  1.000000e+00  0.000000e+00   \n",
       "25%        2.000000      1.000000      0.000000  7.500000e+01  5.500000e+01   \n",
       "50%        3.000000      2.000000      1.000000  1.120000e+02  1.000000e+02   \n",
       "75%        3.000000      3.000000      1.000000  2.000000e+02  1.760000e+02   \n",
       "max       99.000000    200.000000     99.000000  2.123000e+10  8.500000e+08   \n",
       "\n",
       "       price_numeric  price (IDR. Million Rupiah)  \n",
       "count   8.723100e+04                 8.723100e+04  \n",
       "mean    2.383527e+11                 2.383527e+05  \n",
       "std     3.587323e+13                 3.587323e+07  \n",
       "min     2.720000e+03                 2.720000e-03  \n",
       "25%     7.500000e+08                 7.500000e+02  \n",
       "50%     1.300000e+09                 1.300000e+03  \n",
       "75%     2.500000e+09                 2.500000e+03  \n",
       "max     1.025000e+16                 1.025000e+10  "
      ]
     },
     "execution_count": 61,
     "metadata": {},
     "output_type": "execute_result"
    }
   ],
   "source": [
    "df.describe()"
   ]
  },
  {
   "cell_type": "code",
   "execution_count": 62,
   "id": "58a49925",
   "metadata": {
    "scrolled": false
   },
   "outputs": [
    {
     "data": {
      "text/html": [
       "<div>\n",
       "<style scoped>\n",
       "    .dataframe tbody tr th:only-of-type {\n",
       "        vertical-align: middle;\n",
       "    }\n",
       "\n",
       "    .dataframe tbody tr th {\n",
       "        vertical-align: top;\n",
       "    }\n",
       "\n",
       "    .dataframe thead th {\n",
       "        text-align: right;\n",
       "    }\n",
       "</style>\n",
       "<table border=\"1\" class=\"dataframe\">\n",
       "  <thead>\n",
       "    <tr style=\"text-align: right;\">\n",
       "      <th></th>\n",
       "      <th>user</th>\n",
       "      <th>phone_number</th>\n",
       "      <th>agent_corporate</th>\n",
       "      <th>property_location</th>\n",
       "      <th>description</th>\n",
       "      <th>price</th>\n",
       "      <th>property_type</th>\n",
       "      <th>bed</th>\n",
       "      <th>bath</th>\n",
       "      <th>garage</th>\n",
       "      <th>LT</th>\n",
       "      <th>LB</th>\n",
       "      <th>listing_type</th>\n",
       "      <th>property_url</th>\n",
       "      <th>price_numeric</th>\n",
       "      <th>price (IDR. Million Rupiah)</th>\n",
       "    </tr>\n",
       "  </thead>\n",
       "  <tbody>\n",
       "    <tr>\n",
       "      <th>32807</th>\n",
       "      <td>Hatipah Kiki</td>\n",
       "      <td>+62813899...</td>\n",
       "      <td>No agent corporate</td>\n",
       "      <td>Kalimalang, Bekasi</td>\n",
       "      <td>Di Jual Kavling Keren Nice di Jln. Raya Kalimalang Bekasi</td>\n",
       "      <td>Rp 2,5 Juta /m²</td>\n",
       "      <td>Tanah</td>\n",
       "      <td>0.0</td>\n",
       "      <td>0.0</td>\n",
       "      <td>0.0</td>\n",
       "      <td>4.100000e+09</td>\n",
       "      <td>0.0</td>\n",
       "      <td>Regular</td>\n",
       "      <td>https://www.rumah123.com/properti/bekasi/las3244243/</td>\n",
       "      <td>1.025000e+16</td>\n",
       "      <td>1.025000e+10</td>\n",
       "    </tr>\n",
       "    <tr>\n",
       "      <th>12537</th>\n",
       "      <td>Renny (RJ PROPERTY)</td>\n",
       "      <td>No phone number</td>\n",
       "      <td>RJ PROPERTY Cikarang</td>\n",
       "      <td>Bekasi Barat, Bekasi</td>\n",
       "      <td>Dijual Cepat Tanah Bekasi Barat Cocok Untuk Usaha Mall Hotel</td>\n",
       "      <td>Rp 10 Juta /m²</td>\n",
       "      <td>Tanah</td>\n",
       "      <td>0.0</td>\n",
       "      <td>0.0</td>\n",
       "      <td>0.0</td>\n",
       "      <td>1.200000e+08</td>\n",
       "      <td>0.0</td>\n",
       "      <td>Regular</td>\n",
       "      <td>https://www.rumah123.com/properti/bekasi/las3113003/</td>\n",
       "      <td>1.200000e+15</td>\n",
       "      <td>1.200000e+09</td>\n",
       "    </tr>\n",
       "    <tr>\n",
       "      <th>34578</th>\n",
       "      <td>Renny RJ</td>\n",
       "      <td>+62811887...</td>\n",
       "      <td>RJ PROPERTY Cikarang</td>\n",
       "      <td>Bekasi, Bekasi</td>\n",
       "      <td>Dijual Cepat Tanah Bekasi Barat Cocok Untuk Usaha Mall Hotel</td>\n",
       "      <td>Rp 10 Juta /m²</td>\n",
       "      <td>Tanah</td>\n",
       "      <td>0.0</td>\n",
       "      <td>0.0</td>\n",
       "      <td>0.0</td>\n",
       "      <td>1.200000e+08</td>\n",
       "      <td>0.0</td>\n",
       "      <td>Regular</td>\n",
       "      <td>https://www.rumah123.com/properti/bekasi/las3113024/</td>\n",
       "      <td>1.200000e+15</td>\n",
       "      <td>1.200000e+09</td>\n",
       "    </tr>\n",
       "  </tbody>\n",
       "</table>\n",
       "</div>"
      ],
      "text/plain": [
       "                      user     phone_number       agent_corporate  \\\n",
       "32807         Hatipah Kiki     +62813899...    No agent corporate   \n",
       "12537  Renny (RJ PROPERTY)  No phone number  RJ PROPERTY Cikarang   \n",
       "34578             Renny RJ     +62811887...  RJ PROPERTY Cikarang   \n",
       "\n",
       "          property_location  \\\n",
       "32807    Kalimalang, Bekasi   \n",
       "12537  Bekasi Barat, Bekasi   \n",
       "34578        Bekasi, Bekasi   \n",
       "\n",
       "                                                          description  \\\n",
       "32807      Di Jual Kavling Keren Nice di Jln. Raya Kalimalang Bekasi    \n",
       "12537   Dijual Cepat Tanah Bekasi Barat Cocok Untuk Usaha Mall Hotel    \n",
       "34578   Dijual Cepat Tanah Bekasi Barat Cocok Untuk Usaha Mall Hotel    \n",
       "\n",
       "                 price property_type  bed  bath  garage            LT   LB  \\\n",
       "32807  Rp 2,5 Juta /m²         Tanah  0.0   0.0     0.0  4.100000e+09  0.0   \n",
       "12537   Rp 10 Juta /m²         Tanah  0.0   0.0     0.0  1.200000e+08  0.0   \n",
       "34578   Rp 10 Juta /m²         Tanah  0.0   0.0     0.0  1.200000e+08  0.0   \n",
       "\n",
       "      listing_type                                          property_url  \\\n",
       "32807      Regular  https://www.rumah123.com/properti/bekasi/las3244243/   \n",
       "12537      Regular  https://www.rumah123.com/properti/bekasi/las3113003/   \n",
       "34578      Regular  https://www.rumah123.com/properti/bekasi/las3113024/   \n",
       "\n",
       "       price_numeric  price (IDR. Million Rupiah)  \n",
       "32807   1.025000e+16                 1.025000e+10  \n",
       "12537   1.200000e+15                 1.200000e+09  \n",
       "34578   1.200000e+15                 1.200000e+09  "
      ]
     },
     "execution_count": 62,
     "metadata": {},
     "output_type": "execute_result"
    }
   ],
   "source": [
    "df.sort_values(by=['price (IDR. Million Rupiah)'], ascending=False).head(3)"
   ]
  },
  {
   "cell_type": "markdown",
   "id": "fbdf2844",
   "metadata": {},
   "source": [
    "# Saved Cleaned Data"
   ]
  },
  {
   "cell_type": "markdown",
   "id": "d8b4f4c0",
   "metadata": {},
   "source": [
    "Drop price column since we already have Price (IDR. Million Rupiah) column"
   ]
  },
  {
   "cell_type": "code",
   "execution_count": 63,
   "id": "616c2adf",
   "metadata": {},
   "outputs": [
    {
     "data": {
      "text/plain": [
       "user                           0.000000\n",
       "phone_number                   0.000000\n",
       "agent_corporate                0.000000\n",
       "property_location              0.000000\n",
       "description                    0.000000\n",
       "price                          0.000000\n",
       "property_type                  0.000000\n",
       "bed                            0.018776\n",
       "bath                           0.054115\n",
       "garage                         0.000000\n",
       "LT                             0.036291\n",
       "LB                             0.001800\n",
       "listing_type                   0.000000\n",
       "property_url                   0.000000\n",
       "price_numeric                  0.000103\n",
       "price (IDR. Million Rupiah)    0.000103\n",
       "dtype: float64"
      ]
     },
     "execution_count": 63,
     "metadata": {},
     "output_type": "execute_result"
    }
   ],
   "source": [
    "df.isnull().sum() / df.shape[0]"
   ]
  },
  {
   "cell_type": "code",
   "execution_count": 64,
   "id": "99bf3581",
   "metadata": {},
   "outputs": [
    {
     "data": {
      "text/plain": [
       "Apartemen    0.993367\n",
       "Tanah        0.006633\n",
       "Name: property_type, dtype: float64"
      ]
     },
     "execution_count": 64,
     "metadata": {},
     "output_type": "execute_result"
    }
   ],
   "source": [
    "df[df['LT'].isna()]['property_type'].value_counts(normalize=True)"
   ]
  },
  {
   "cell_type": "code",
   "execution_count": 65,
   "id": "e5ddf7c3",
   "metadata": {},
   "outputs": [
    {
     "data": {
      "text/plain": [
       "87240"
      ]
     },
     "execution_count": 65,
     "metadata": {},
     "output_type": "execute_result"
    }
   ],
   "source": [
    "df.shape[0]"
   ]
  },
  {
   "cell_type": "code",
   "execution_count": 66,
   "id": "d566cbde",
   "metadata": {},
   "outputs": [],
   "source": [
    "df.dropna(inplace=True)"
   ]
  },
  {
   "cell_type": "code",
   "execution_count": 67,
   "id": "22d891bf",
   "metadata": {},
   "outputs": [
    {
     "data": {
      "text/plain": [
       "user                           0.0\n",
       "phone_number                   0.0\n",
       "agent_corporate                0.0\n",
       "property_location              0.0\n",
       "description                    0.0\n",
       "price                          0.0\n",
       "property_type                  0.0\n",
       "bed                            0.0\n",
       "bath                           0.0\n",
       "garage                         0.0\n",
       "LT                             0.0\n",
       "LB                             0.0\n",
       "listing_type                   0.0\n",
       "property_url                   0.0\n",
       "price_numeric                  0.0\n",
       "price (IDR. Million Rupiah)    0.0\n",
       "dtype: float64"
      ]
     },
     "execution_count": 67,
     "metadata": {},
     "output_type": "execute_result"
    }
   ],
   "source": [
    "df.isnull().sum() / df.shape[0]"
   ]
  },
  {
   "cell_type": "code",
   "execution_count": 68,
   "id": "75ef1d07",
   "metadata": {},
   "outputs": [
    {
     "data": {
      "text/plain": [
       "79192"
      ]
     },
     "execution_count": 68,
     "metadata": {},
     "output_type": "execute_result"
    }
   ],
   "source": [
    "df.shape[0]"
   ]
  },
  {
   "cell_type": "code",
   "execution_count": 69,
   "id": "b786b70c",
   "metadata": {},
   "outputs": [],
   "source": [
    "df.drop(['price', 'price_numeric'], axis=1, inplace=True)"
   ]
  },
  {
   "cell_type": "code",
   "execution_count": 70,
   "id": "42236f73",
   "metadata": {},
   "outputs": [
    {
     "data": {
      "text/html": [
       "<div>\n",
       "<style scoped>\n",
       "    .dataframe tbody tr th:only-of-type {\n",
       "        vertical-align: middle;\n",
       "    }\n",
       "\n",
       "    .dataframe tbody tr th {\n",
       "        vertical-align: top;\n",
       "    }\n",
       "\n",
       "    .dataframe thead th {\n",
       "        text-align: right;\n",
       "    }\n",
       "</style>\n",
       "<table border=\"1\" class=\"dataframe\">\n",
       "  <thead>\n",
       "    <tr style=\"text-align: right;\">\n",
       "      <th></th>\n",
       "      <th>user</th>\n",
       "      <th>phone_number</th>\n",
       "      <th>agent_corporate</th>\n",
       "      <th>property_location</th>\n",
       "      <th>description</th>\n",
       "      <th>property_type</th>\n",
       "      <th>bed</th>\n",
       "      <th>bath</th>\n",
       "      <th>garage</th>\n",
       "      <th>LT</th>\n",
       "      <th>LB</th>\n",
       "      <th>listing_type</th>\n",
       "      <th>property_url</th>\n",
       "      <th>price (IDR. Million Rupiah)</th>\n",
       "    </tr>\n",
       "  </thead>\n",
       "  <tbody>\n",
       "    <tr>\n",
       "      <th>0</th>\n",
       "      <td>Julia Lee</td>\n",
       "      <td>+62813662...</td>\n",
       "      <td>Era Sky Harapan Indah</td>\n",
       "      <td>Harapan Indah, Bekasi</td>\n",
       "      <td>Rumah Siap Huni di Harapan Indah Cluster Adara Bekasi</td>\n",
       "      <td>Rumah</td>\n",
       "      <td>2.0</td>\n",
       "      <td>2.0</td>\n",
       "      <td>1.0</td>\n",
       "      <td>128.0</td>\n",
       "      <td>80.0</td>\n",
       "      <td>Premier</td>\n",
       "      <td>https://www.rumah123.com/properti/bekasi/hos13715709/</td>\n",
       "      <td>1800.0</td>\n",
       "    </tr>\n",
       "  </tbody>\n",
       "</table>\n",
       "</div>"
      ],
      "text/plain": [
       "        user  phone_number        agent_corporate      property_location  \\\n",
       "0  Julia Lee  +62813662...  Era Sky Harapan Indah  Harapan Indah, Bekasi   \n",
       "\n",
       "                                             description property_type  bed  \\\n",
       "0  Rumah Siap Huni di Harapan Indah Cluster Adara Bekasi         Rumah  2.0   \n",
       "\n",
       "   bath  garage     LT    LB listing_type  \\\n",
       "0   2.0     1.0  128.0  80.0      Premier   \n",
       "\n",
       "                                            property_url  \\\n",
       "0  https://www.rumah123.com/properti/bekasi/hos13715709/   \n",
       "\n",
       "   price (IDR. Million Rupiah)  \n",
       "0                       1800.0  "
      ]
     },
     "execution_count": 70,
     "metadata": {},
     "output_type": "execute_result"
    }
   ],
   "source": [
    "df[df.property_url == 'https://www.rumah123.com/properti/bekasi/hos13715709/']"
   ]
  },
  {
   "cell_type": "code",
   "execution_count": 69,
   "id": "a2f9e255",
   "metadata": {
    "scrolled": true
   },
   "outputs": [
    {
     "data": {
      "text/plain": [
       "Index(['user', 'phone_number', 'agent_corporate', 'property_location',\n",
       "       'description', 'property_type', 'bed', 'bath', 'garage', 'LT', 'LB',\n",
       "       'listing_type', 'property_url', 'price (IDR. Million Rupiah)'],\n",
       "      dtype='object')"
      ]
     },
     "execution_count": 69,
     "metadata": {},
     "output_type": "execute_result"
    }
   ],
   "source": [
    "df.columns"
   ]
  },
  {
   "cell_type": "code",
   "execution_count": 70,
   "id": "9787b86c",
   "metadata": {},
   "outputs": [],
   "source": [
    "df.to_csv('rumah123_bekasiv2_cleaned.csv', index=False)"
   ]
  }
 ],
 "metadata": {
  "kernelspec": {
   "display_name": "Python [conda env:loan_prediction_env]",
   "language": "python",
   "name": "conda-env-loan_prediction_env-py"
  },
  "language_info": {
   "codemirror_mode": {
    "name": "ipython",
    "version": 3
   },
   "file_extension": ".py",
   "mimetype": "text/x-python",
   "name": "python",
   "nbconvert_exporter": "python",
   "pygments_lexer": "ipython3",
   "version": "3.8.17"
  },
  "varInspector": {
   "cols": {
    "lenName": 16,
    "lenType": 16,
    "lenVar": 40
   },
   "kernels_config": {
    "python": {
     "delete_cmd_postfix": "",
     "delete_cmd_prefix": "del ",
     "library": "var_list.py",
     "varRefreshCmd": "print(var_dic_list())"
    },
    "r": {
     "delete_cmd_postfix": ") ",
     "delete_cmd_prefix": "rm(",
     "library": "var_list.r",
     "varRefreshCmd": "cat(var_dic_list()) "
    }
   },
   "types_to_exclude": [
    "module",
    "function",
    "builtin_function_or_method",
    "instance",
    "_Feature"
   ],
   "window_display": false
  }
 },
 "nbformat": 4,
 "nbformat_minor": 5
}
